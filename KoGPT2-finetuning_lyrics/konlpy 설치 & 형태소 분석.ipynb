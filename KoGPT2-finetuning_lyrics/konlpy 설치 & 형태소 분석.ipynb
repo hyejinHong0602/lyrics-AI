{
 "cells": [
  {
   "cell_type": "code",
   "execution_count": 2,
   "metadata": {},
   "outputs": [
    {
     "name": "stdout",
     "output_type": "stream",
     "text": [
      "Processing c:\\users\\hhz20\\산공과제\\lyric___\\nlp\\kogpt2-finetuning_lyrics\\jpype1-1.1.2-cp38-cp38-win_amd64.whl\n",
      "Installing collected packages: JPype1\n",
      "Successfully installed JPype1-1.1.2\n"
     ]
    }
   ],
   "source": [
    "!pip install JPype1-1.1.2-cp38-cp38-win_amd64.whl"
   ]
  },
  {
   "cell_type": "code",
   "execution_count": 4,
   "metadata": {},
   "outputs": [
    {
     "name": "stdout",
     "output_type": "stream",
     "text": [
      "Requirement already satisfied: pip in c:\\users\\hhz20\\anaconda3\\lib\\site-packages (21.3.1)\n"
     ]
    }
   ],
   "source": [
    "!pip install --upgrade pip"
   ]
  },
  {
   "cell_type": "code",
   "execution_count": 5,
   "metadata": {
    "scrolled": true
   },
   "outputs": [
    {
     "name": "stdout",
     "output_type": "stream",
     "text": [
      "Requirement already satisfied: konlpy in c:\\users\\hhz20\\anaconda3\\lib\\site-packages (0.5.2)\n",
      "Requirement already satisfied: lxml>=4.1.0 in c:\\users\\hhz20\\anaconda3\\lib\\site-packages (from konlpy) (4.6.1)\n",
      "Requirement already satisfied: numpy>=1.6 in c:\\users\\hhz20\\anaconda3\\lib\\site-packages (from konlpy) (1.19.5)\n",
      "Requirement already satisfied: tweepy>=3.7.0 in c:\\users\\hhz20\\anaconda3\\lib\\site-packages (from konlpy) (3.10.0)\n",
      "Requirement already satisfied: beautifulsoup4==4.6.0 in c:\\users\\hhz20\\anaconda3\\lib\\site-packages (from konlpy) (4.6.0)\n",
      "Requirement already satisfied: colorama in c:\\users\\hhz20\\anaconda3\\lib\\site-packages (from konlpy) (0.4.4)\n",
      "Requirement already satisfied: JPype1>=0.7.0 in c:\\users\\hhz20\\anaconda3\\lib\\site-packages (from konlpy) (1.1.2)\n",
      "Requirement already satisfied: requests[socks]>=2.11.1 in c:\\users\\hhz20\\anaconda3\\lib\\site-packages (from tweepy>=3.7.0->konlpy) (2.26.0)\n",
      "Requirement already satisfied: six>=1.10.0 in c:\\users\\hhz20\\anaconda3\\lib\\site-packages (from tweepy>=3.7.0->konlpy) (1.15.0)\n",
      "Requirement already satisfied: requests-oauthlib>=0.7.0 in c:\\users\\hhz20\\anaconda3\\lib\\site-packages (from tweepy>=3.7.0->konlpy) (1.3.0)\n",
      "Requirement already satisfied: oauthlib>=3.0.0 in c:\\users\\hhz20\\anaconda3\\lib\\site-packages (from requests-oauthlib>=0.7.0->tweepy>=3.7.0->konlpy) (3.1.1)\n",
      "Requirement already satisfied: idna<4,>=2.5 in c:\\users\\hhz20\\anaconda3\\lib\\site-packages (from requests[socks]>=2.11.1->tweepy>=3.7.0->konlpy) (2.6)\n",
      "Requirement already satisfied: charset-normalizer~=2.0.0 in c:\\users\\hhz20\\anaconda3\\lib\\site-packages (from requests[socks]>=2.11.1->tweepy>=3.7.0->konlpy) (2.0.4)\n",
      "Requirement already satisfied: certifi>=2017.4.17 in c:\\users\\hhz20\\anaconda3\\lib\\site-packages (from requests[socks]>=2.11.1->tweepy>=3.7.0->konlpy) (2020.6.20)\n",
      "Requirement already satisfied: urllib3<1.27,>=1.21.1 in c:\\users\\hhz20\\anaconda3\\lib\\site-packages (from requests[socks]>=2.11.1->tweepy>=3.7.0->konlpy) (1.22)\n",
      "Requirement already satisfied: PySocks!=1.5.7,>=1.5.6 in c:\\users\\hhz20\\anaconda3\\lib\\site-packages (from requests[socks]>=2.11.1->tweepy>=3.7.0->konlpy) (1.7.1)\n"
     ]
    }
   ],
   "source": [
    "!pip install konlpy"
   ]
  },
  {
   "cell_type": "markdown",
   "metadata": {},
   "source": [
    "## 형태소분석 예시"
   ]
  },
  {
   "cell_type": "code",
   "execution_count": 7,
   "metadata": {},
   "outputs": [],
   "source": [
    "import pandas as pd\n",
    "\n",
    "df=pd.read_csv('./dataset/아이유_lyrics.tsv', sep = '\\t', encoding='utf-8')"
   ]
  },
  {
   "cell_type": "code",
   "execution_count": 8,
   "metadata": {},
   "outputs": [],
   "source": [
    "num_lyrics=int(df.count())"
   ]
  },
  {
   "cell_type": "code",
   "execution_count": 9,
   "metadata": {},
   "outputs": [
    {
     "name": "stdout",
     "output_type": "stream",
     "text": [
      "Counter({'of': 13, 'your': 11, 'sick': 7, 'up': 7, 'with': 7, 'm': 5, 'loveSick': 5, 'all': 4, 'usFed': 4, 'ㄴ': 3, 'I': 3, 'fed': 3, '지': 2, '을': 2, '아': 2, '보': 2, 'ㅁ': 2, '싫': 2, 'Too': 2, '할퀴': 2, 'loveI': 2, 'and': 2, 'this': 2, 'loveJust': 2, '창백': 1, '으로': 1, '바라보': 1, '너': 1, '변하': 1, '없이': 1, '나날': 1, '미치': 1, '하': 1, '눈': 1, '더이상': 1, '사랑': 1, '야': 1, '미안': 1, '억지로': 1, '맘': 1, '돌리': 1, '려고': 1, '애쓰': 1, '싶': 1, '가': 1, '않': 1, '우리': 1, '삼키': 1, '따분': 1, '마음대로': 1, '나르': 1, '비난': 1, '고': 1, '타오르': 1, '감정': 1, '부스러기': 1, '로': 1, '이렇': 1, '가볍': 1, '도': 1, '겨우': 1, '이것': 1, '다': 1, '었': 1, '헤어': 1, '미루': 1, '익숙': 1, '얼마든지': 1, '를': 1, '미워하': 1, 'Sorry': 1, 'loveToo': 1, 'tired': 1, 'allSick': 1, 'us': 1, 'our': 1, 'love': 1})\n"
     ]
    },
    {
     "data": {
      "text/plain": [
       "[('of', 13),\n",
       " ('your', 11),\n",
       " ('sick', 7),\n",
       " ('up', 7),\n",
       " ('with', 7),\n",
       " ('m', 5),\n",
       " ('loveSick', 5),\n",
       " ('all', 4),\n",
       " ('usFed', 4),\n",
       " ('ㄴ', 3),\n",
       " ('I', 3),\n",
       " ('fed', 3),\n",
       " ('지', 2),\n",
       " ('을', 2),\n",
       " ('아', 2),\n",
       " ('보', 2),\n",
       " ('ㅁ', 2),\n",
       " ('싫', 2),\n",
       " ('Too', 2),\n",
       " ('할퀴', 2),\n",
       " ('loveI', 2),\n",
       " ('and', 2),\n",
       " ('this', 2),\n",
       " ('loveJust', 2),\n",
       " ('창백', 1),\n",
       " ('으로', 1),\n",
       " ('바라보', 1),\n",
       " ('너', 1),\n",
       " ('변하', 1),\n",
       " ('없이', 1),\n",
       " ('나날', 1),\n",
       " ('미치', 1),\n",
       " ('하', 1),\n",
       " ('눈', 1),\n",
       " ('더이상', 1),\n",
       " ('사랑', 1),\n",
       " ('야', 1),\n",
       " ('미안', 1),\n",
       " ('억지로', 1),\n",
       " ('맘', 1),\n",
       " ('돌리', 1),\n",
       " ('려고', 1),\n",
       " ('애쓰', 1),\n",
       " ('싶', 1),\n",
       " ('가', 1),\n",
       " ('않', 1),\n",
       " ('우리', 1),\n",
       " ('삼키', 1),\n",
       " ('따분', 1),\n",
       " ('마음대로', 1),\n",
       " ('나르', 1),\n",
       " ('비난', 1),\n",
       " ('고', 1),\n",
       " ('타오르', 1),\n",
       " ('감정', 1),\n",
       " ('부스러기', 1),\n",
       " ('로', 1),\n",
       " ('이렇', 1),\n",
       " ('가볍', 1),\n",
       " ('도', 1),\n",
       " ('겨우', 1),\n",
       " ('이것', 1),\n",
       " ('다', 1),\n",
       " ('었', 1),\n",
       " ('헤어', 1),\n",
       " ('미루', 1),\n",
       " ('익숙', 1),\n",
       " ('얼마든지', 1),\n",
       " ('를', 1),\n",
       " ('미워하', 1),\n",
       " ('Sorry', 1),\n",
       " ('loveToo', 1),\n",
       " ('tired', 1),\n",
       " ('allSick', 1),\n",
       " ('us', 1),\n",
       " ('our', 1),\n",
       " ('love', 1)]"
      ]
     },
     "execution_count": 9,
     "metadata": {},
     "output_type": "execute_result"
    }
   ],
   "source": [
    "## 형태소 추출\n",
    "from konlpy.tag import Kkma\n",
    "from collections import Counter\n",
    "kkma = Kkma()\n",
    "text = df['lyrics'][7]\n",
    "words = kkma.morphs(text)\n",
    "\n",
    "# 한글자짜리는 제외.\n",
    "for i,v in enumerate(words):\n",
    "    if len(v)<2:\n",
    "        words.pop(i)\n",
    "        \n",
    "count = Counter(words)\n",
    "print(count)\n",
    "\n",
    "count.most_common(100)"
   ]
  },
  {
   "cell_type": "code",
   "execution_count": null,
   "metadata": {},
   "outputs": [],
   "source": [
    "## 명사만 추출 \n",
    "## input word는 명사로 주는 것이 좋을 것 같아 명사만 따로 추출 하였음.\n",
    "\n",
    "from konlpy.tag import Kkma\n",
    "from collections import Counter\n",
    "kkma = Kkma()\n",
    "\n",
    "all_nouns=[]\n",
    " \n",
    "for i in range(num_lyrics-1, 60,-1):\n",
    "    text = df['lyrics'][i]\n",
    "    nouns = kkma.nouns(text)\n",
    "\n",
    "    # 한글자짜리는 제외.\n",
    "    for i,v in enumerate(nouns):\n",
    "        if len(v)<2:\n",
    "            nouns.pop(i)\n",
    "        \n",
    "    nouns = Counter(nouns)\n",
    "    all_nouns.append(nouns.most_common())"
   ]
  },
  {
   "cell_type": "code",
   "execution_count": 118,
   "metadata": {
    "scrolled": true
   },
   "outputs": [],
   "source": [
    "# 리스트 차원 줄이기\n",
    "import itertools\n",
    "all_nouns=list(itertools.chain(*all_nouns))"
   ]
  },
  {
   "cell_type": "code",
   "execution_count": 119,
   "metadata": {
    "scrolled": true
   },
   "outputs": [
    {
     "data": {
      "text/plain": [
       "5013"
      ]
     },
     "execution_count": 119,
     "metadata": {},
     "output_type": "execute_result"
    }
   ],
   "source": [
    "len(all_nouns) # 각 곡의 명사 개수를 합친 총 명사 개수"
   ]
  },
  {
   "cell_type": "code",
   "execution_count": null,
   "metadata": {},
   "outputs": [],
   "source": [
    "# 가수의 가사 전체에서 유니크한 명사 개수"
   ]
  },
  {
   "cell_type": "code",
   "execution_count": 120,
   "metadata": {},
   "outputs": [],
   "source": [
    "w = [] # 단어 저장할 리스트\n",
    "for i in range(len(all_nouns)):\n",
    "    w.append(all_nouns[i][0])"
   ]
  },
  {
   "cell_type": "code",
   "execution_count": 121,
   "metadata": {},
   "outputs": [],
   "source": [
    "w_num = Counter(w)"
   ]
  },
  {
   "cell_type": "code",
   "execution_count": 123,
   "metadata": {},
   "outputs": [
    {
     "data": {
      "text/plain": [
       "[('시간', 48),\n",
       " ('우리', 47),\n",
       " ('내가', 43),\n",
       " ('사랑', 40),\n",
       " ('지금', 39),\n",
       " ('순간', 36),\n",
       " ('나의', 35),\n",
       " ('나', 35),\n",
       " ('너', 34),\n",
       " ('어디', 31),\n",
       " ('오늘', 30),\n",
       " ('심장', 29),\n",
       " ('생각', 29),\n",
       " ('내', 29),\n",
       " ('너와', 28),\n",
       " ('하루', 28),\n",
       " ('여기', 26),\n",
       " ('하나', 25),\n",
       " ('세상', 24),\n",
       " ('느낌', 23),\n",
       " ('이젠', 23),\n",
       " ('필요', 23),\n",
       " ('날', 22),\n",
       " ('때', 20),\n",
       " ('눈', 20),\n",
       " ('준비', 19),\n",
       " ('눈빛', 18),\n",
       " ('기분', 18),\n",
       " ('기억', 18),\n",
       " ('수', 18),\n",
       " ('사람', 17),\n",
       " ('감정', 17),\n",
       " ('시작', 17),\n",
       " ('사이', 16),\n",
       " ('맘', 16),\n",
       " ('이름', 16),\n",
       " ('위험', 16),\n",
       " ('이상', 16),\n",
       " ('니', 16),\n",
       " ('남자', 16),\n",
       " ('어둠', 15),\n",
       " ('자리', 15),\n",
       " ('무엇', 15),\n",
       " ('마지막', 15),\n",
       " ('손', 14),\n",
       " ('널', 14),\n",
       " ('앞', 14),\n",
       " ('말', 14),\n",
       " ('소리', 14),\n",
       " ('전부', 14)]"
      ]
     },
     "execution_count": 123,
     "metadata": {},
     "output_type": "execute_result"
    }
   ],
   "source": [
    "w_num.most_common(50)\n",
    "# 최빈 단어 순서"
   ]
  },
  {
   "cell_type": "code",
   "execution_count": null,
   "metadata": {},
   "outputs": [],
   "source": [
    "## 가사 생성한 결과로 형태소 분석"
   ]
  },
  {
   "cell_type": "code",
   "execution_count": 4,
   "metadata": {},
   "outputs": [
    {
     "name": "stdout",
     "output_type": "stream",
     "text": [
      "['지금', '는', '어제', '꿈꾸', '었', '나요', '그대', '내', '가슴', '흐르', '있', '나요', '꿈', '에', '흐르', '있', '나요', '푸른', '하늘', '에', '흐르', '있', '나요', '검', '깃털', '에', '어', '달빛', '에', '흐르', '있', '나요', '영원히', '의', '연인', '되', '다고', '말하', '주', '어요', '이제', '부터', '가', '의', '에', '겠', '다고', '말하', '주', '어요', '우리', '함께', '하자', '고', '말하', '주', '어요', '이제', '부터', '가', '의', '에', '겠', '다고', '말하', '주', '어요', '우리', '함께', '하자', '고', '말하', '주', '어요', '노래', '내', '꿈속', '흐르', '있', '나요', '영원히', '의', '연인', '되', '다고', '말하', '주', '어요', '이제', '부터', '가', '의', '에', '겠', '다고', '말하', '주', '어요', '우리', '함께', '하자', '고', '말하', '주', '어요', '노래', '내', '꿈속', '흐르', '있', '나요', '영원히', '의', '연인', '되', '다고', '말하', '주', '어요', '이제', '부터', '가', '의', '에', '겠', '다고', '말하', '주', '어요', '우리', '함께', '하자', '고', '말하', '주', '어요', '노래', '내', '꿈속', '흐르', '있', '나요', '영원히', '의', '연인', '되', '다고', '말하', '주', '어요', '우리', '함께', '하자', '고', '말하', '주', '어요', '노래', '내', '꿈속', '흐르', '있', '나요', '영원히', '의', '연인', '되', '다고', '말하', '주', '어요', '노래', '내', '꿈속', '흐르', '있', '나요', '영원히', '의', '연인', '되', '다고', '말하', '주']\n"
     ]
    }
   ],
   "source": [
    "## 형태소 추출\n",
    "from konlpy.tag import Kkma\n",
    "from collections import Counter\n",
    "kkma = Kkma()\n",
    "text_1 = '지금에는 어제는 꿈꾸셨나요 그대과 내 가슴에 흐르고 있나요내 꿈 속에 흐르고 있나요내 푸른 하늘 속에 흐르고 있나요내 검은 깃털 속에 저 달빛 속에 흐르고 있나요영원히 나의 연인이되겠다고 말해줘요이제부터 내가 너의 곁에 가겠다고 말해줘요우리가 함께하자고 말해줘요이제부터 내가 너의 곁에 가겠다고 말해줘요우리가 함께하자고 말해줘요이 노래가 내 꿈속에 흐르고 있나요영원히 나의 연인이되겠다고 말해줘요이제부터 내가 너의 곁에 가겠다고 말해줘요우리가 함께하자고 말해줘요이 노래가 내 꿈속에 흐르고 있나요영원히 나의 연인이되겠다고 말해줘요이제부터 내가 너의 곁에 가겠다고 말해줘요우리가 함께하자고 말해줘요이 노래가 내 꿈속에 흐르고 있나요영원히 나의 연인이되겠다고 말해줘요우리가 함께하자고 말해줘요이 노래가 내 꿈속에 흐르고 있나요영원히 나의 연인이되겠다고 말해줘요이 노래가 내 꿈속에 흐르고 있나요영원히 나의 연인이되겠다고 말해줘'\n",
    "text_1 = kkma.morphs(text_1)\n",
    "\n",
    "for i,v in enumerate(text_1):\n",
    "    if len(v)<2:\n",
    "        text_1.pop(i)\n",
    "print(text_1)"
   ]
  },
  {
   "cell_type": "markdown",
   "metadata": {},
   "source": [
    "## BLEU"
   ]
  },
  {
   "cell_type": "code",
   "execution_count": 10,
   "metadata": {
    "scrolled": false
   },
   "outputs": [
    {
     "name": "stdout",
     "output_type": "stream",
     "text": [
      "0 225\n",
      "1 309\n",
      "2 351\n",
      "3 309\n",
      "4 253\n",
      "5 259\n",
      "6 343\n",
      "7 205\n",
      "8 312\n",
      "9 422\n",
      "10 242\n",
      "11 457\n",
      "12 291\n",
      "13 292\n",
      "14 222\n",
      "15 326\n",
      "16 234\n",
      "17 317\n",
      "18 202\n",
      "19 323\n",
      "20 234\n",
      "21 455\n",
      "22 324\n",
      "23 296\n",
      "24 399\n",
      "25 222\n",
      "26 137\n",
      "27 146\n",
      "28 249\n",
      "29 363\n",
      "30 205\n",
      "31 412\n",
      "32 345\n",
      "33 178\n",
      "34 252\n",
      "35 260\n",
      "36 361\n",
      "37 187\n",
      "38 360\n",
      "39 367\n",
      "40 512\n",
      "41 215\n",
      "42 504\n",
      "43 229\n",
      "44 265\n",
      "45 194\n",
      "46 258\n",
      "47 440\n",
      "48 164\n",
      "49 89\n",
      "50 246\n",
      "51 165\n",
      "52 266\n",
      "53 151\n",
      "54 340\n",
      "55 395\n",
      "56 253\n",
      "57 315\n",
      "58 178\n",
      "59 337\n",
      "60 237\n",
      "61 372\n",
      "62 286\n",
      "63 227\n",
      "64 227\n",
      "65 198\n",
      "66 272\n",
      "67 224\n",
      "68 204\n",
      "69 50\n",
      "70 239\n",
      "71 257\n",
      "72 303\n",
      "73 236\n",
      "74 348\n",
      "75 291\n",
      "76 285\n",
      "77 300\n",
      "78 223\n",
      "79 232\n",
      "80 264\n",
      "81 299\n",
      "82 264\n",
      "83 315\n",
      "84 317\n",
      "85 296\n",
      "86 168\n",
      "87 196\n",
      "88 160\n",
      "89 281\n",
      "90 298\n",
      "91 217\n",
      "92 193\n",
      "93 293\n",
      "94 299\n",
      "95 282\n",
      "96 367\n",
      "97 253\n",
      "98 346\n",
      "99 505\n",
      "100 329\n",
      "101 297\n",
      "102 231\n",
      "103 308\n",
      "104 233\n",
      "105 382\n",
      "106 286\n",
      "107 160\n",
      "108 268\n",
      "109 131\n",
      "110 486\n",
      "111 224\n",
      "112 387\n",
      "113 253\n",
      "114 317\n",
      "115 302\n",
      "116 145\n",
      "117 196\n",
      "118 251\n",
      "119 220\n",
      "120 320\n",
      "121 413\n",
      "122 264\n",
      "123 503\n",
      "124 393\n",
      "125 286\n",
      "126 329\n",
      "127 424\n",
      "128 343\n",
      "129 343\n",
      "130 211\n",
      "131 315\n",
      "132 213\n",
      "133 290\n",
      "134 423\n",
      "135 337\n",
      "136 390\n",
      "137\n"
     ]
    }
   ],
   "source": [
    "## 형태소 토큰화\n",
    "from konlpy.tag import Kkma\n",
    "from collections import Counter\n",
    "import itertools\n",
    "\n",
    "# 형태소 분석 모델 생성\n",
    "kkma = Kkma()\n",
    "\n",
    "# 전체 단어 넣을 리스트\n",
    "all_words = []\n",
    "\n",
    "\n",
    "for i in range(num_lyrics):\n",
    "    text = df['lyrics'][i]\n",
    "    words = kkma.morphs(text)\n",
    "    all_words.append(words)\n",
    "    print(i, len(words))\n",
    "\n",
    "print(len(all_words)) # ->  이게 REFERENCE가 되는 것\n",
    "# unique_words = list(set(all_words)) # 중복 제거한 형태소 개수 -> 이게 REFERENCE가 되는 것\n",
    "# print(len(unique_words))"
   ]
  },
  {
   "cell_type": "code",
   "execution_count": 13,
   "metadata": {
    "scrolled": true
   },
   "outputs": [
    {
     "name": "stdout",
     "output_type": "stream",
     "text": [
      "Cumulative 1-gram: 0.732524\n",
      "Cumulative 2-gram: 0.326082\n",
      "Cumulative 3-gram: 0.000000\n",
      "Cumulative 4-gram: 0.000000\n"
     ]
    }
   ],
   "source": [
    "from nltk.translate.bleu_score import sentence_bleu\n",
    "reference = all_words # 이대로 하면되고 (전체 형태소)\n",
    "candidate = text_1 # 새로 생성한 가사 형태소 분석해서 넣으면 됨. \n",
    "score = sentence_bleu(reference, candidate)\n",
    "print('Cumulative 1-gram: %f' % sentence_bleu(reference, candidate, weights=(1, 0, 0, 0)))\n",
    "print('Cumulative 2-gram: %f' % sentence_bleu(reference, candidate, weights=(0.5, 0.5, 0, 0)))\n",
    "print('Cumulative 3-gram: %f' % sentence_bleu(reference, candidate, weights=(0.33, 0.33, 0.33, 0)))\n",
    "print('Cumulative 4-gram: %f' % sentence_bleu(reference, candidate, weights=(0.25, 0.25, 0.25, 0.25)))"
   ]
  }
 ],
 "metadata": {
  "kernelspec": {
   "display_name": "Python 3",
   "language": "python",
   "name": "python3"
  },
  "language_info": {
   "codemirror_mode": {
    "name": "ipython",
    "version": 3
   },
   "file_extension": ".py",
   "mimetype": "text/x-python",
   "name": "python",
   "nbconvert_exporter": "python",
   "pygments_lexer": "ipython3",
   "version": "3.8.5"
  }
 },
 "nbformat": 4,
 "nbformat_minor": 4
}
