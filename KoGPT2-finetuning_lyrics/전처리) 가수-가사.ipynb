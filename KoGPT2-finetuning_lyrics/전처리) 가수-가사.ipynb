{
 "cells": [
  {
   "cell_type": "markdown",
   "id": "03e069d7",
   "metadata": {},
   "source": [
    "#### 파일 하나로 합치기"
   ]
  },
  {
   "cell_type": "code",
   "execution_count": 43,
   "id": "0cc8ec79",
   "metadata": {},
   "outputs": [],
   "source": [
    "import pandas as pd\n",
    "\n",
    "df10=pd.read_csv('./dataset_before/장범준_lyrics_clean.tsv', sep = '\\t', encoding='cp949')"
   ]
  },
  {
   "cell_type": "code",
   "execution_count": 40,
   "id": "840edd74",
   "metadata": {},
   "outputs": [
    {
     "data": {
      "text/html": [
       "<div>\n",
       "<style scoped>\n",
       "    .dataframe tbody tr th:only-of-type {\n",
       "        vertical-align: middle;\n",
       "    }\n",
       "\n",
       "    .dataframe tbody tr th {\n",
       "        vertical-align: top;\n",
       "    }\n",
       "\n",
       "    .dataframe thead th {\n",
       "        text-align: right;\n",
       "    }\n",
       "</style>\n",
       "<table border=\"1\" class=\"dataframe\">\n",
       "  <thead>\n",
       "    <tr style=\"text-align: right;\">\n",
       "      <th></th>\n",
       "      <th>Unnamed: 0</th>\n",
       "      <th>제목</th>\n",
       "      <th>가수</th>\n",
       "      <th>가사</th>\n",
       "    </tr>\n",
       "  </thead>\n",
       "  <tbody>\n",
       "    <tr>\n",
       "      <th>0</th>\n",
       "      <td>0</td>\n",
       "      <td>첫 겨울이니까</td>\n",
       "      <td>성시경, 아이유</td>\n",
       "      <td>무얼 고를까추운 겨울이니까캐시미어 스웨터는 어떨까처음이니까초록이 날까다홍색은 어떨까...</td>\n",
       "    </tr>\n",
       "    <tr>\n",
       "      <th>1</th>\n",
       "      <td>1</td>\n",
       "      <td>라일락</td>\n",
       "      <td>아이유</td>\n",
       "      <td>나리는 꽃가루에 눈이 따끔해 (아야)눈물이 고여도 꾹 참을래내 마음 한켠 비밀스런 ...</td>\n",
       "    </tr>\n",
       "    <tr>\n",
       "      <th>2</th>\n",
       "      <td>2</td>\n",
       "      <td>Flu</td>\n",
       "      <td>아이유</td>\n",
       "      <td>Doc, I’m feeling bad미열이 흐르고 또 어질어질해there’s too...</td>\n",
       "    </tr>\n",
       "    <tr>\n",
       "      <th>3</th>\n",
       "      <td>3</td>\n",
       "      <td>Coin</td>\n",
       "      <td>아이유</td>\n",
       "      <td>강자에게 더 세게 I love gamble과감할수록 신세계 on my tableI’...</td>\n",
       "    </tr>\n",
       "    <tr>\n",
       "      <th>4</th>\n",
       "      <td>4</td>\n",
       "      <td>봄 안녕 봄</td>\n",
       "      <td>아이유</td>\n",
       "      <td>아프던 너의 이름도이제는 미련이 아냐하얗게 잊어버린 듯 살다가또 한 번 마주치고 싶...</td>\n",
       "    </tr>\n",
       "    <tr>\n",
       "      <th>...</th>\n",
       "      <td>...</td>\n",
       "      <td>...</td>\n",
       "      <td>...</td>\n",
       "      <td>...</td>\n",
       "    </tr>\n",
       "    <tr>\n",
       "      <th>144</th>\n",
       "      <td>144</td>\n",
       "      <td>미운오리</td>\n",
       "      <td>아이유</td>\n",
       "      <td>미운오리저기 멀리 어둔 하늘 보다가엄마 별이 사는 그 곳은 어딜까외로운 밤 나를 보...</td>\n",
       "    </tr>\n",
       "    <tr>\n",
       "      <th>145</th>\n",
       "      <td>145</td>\n",
       "      <td>미아</td>\n",
       "      <td>아이유</td>\n",
       "      <td>우리 둘 담아 준 사진을 태워하나 둘 모아 둔 기억을 지워그만 일어나 가야 하는 걸...</td>\n",
       "    </tr>\n",
       "    <tr>\n",
       "      <th>146</th>\n",
       "      <td>146</td>\n",
       "      <td>있잖아 (Feat. 마리오)</td>\n",
       "      <td>아이유</td>\n",
       "      <td>Ye this song is my love story첫 눈에 반한다는 말절대로 믿지...</td>\n",
       "    </tr>\n",
       "    <tr>\n",
       "      <th>147</th>\n",
       "      <td>147</td>\n",
       "      <td>Feel So Good</td>\n",
       "      <td>아이유</td>\n",
       "      <td>아침에 눈을 뜨면 다가오는 햇살햇살에 눈 비비고 일어나고일어나 남은 잠을 깨워보는s...</td>\n",
       "    </tr>\n",
       "    <tr>\n",
       "      <th>148</th>\n",
       "      <td>148</td>\n",
       "      <td>Every Sweet Day</td>\n",
       "      <td>아이유</td>\n",
       "      <td>Hey boywhat you gonna do for me honey내 방안에 내 손...</td>\n",
       "    </tr>\n",
       "  </tbody>\n",
       "</table>\n",
       "<p>149 rows × 4 columns</p>\n",
       "</div>"
      ],
      "text/plain": [
       "     Unnamed: 0               제목        가수  \\\n",
       "0             0          첫 겨울이니까  성시경, 아이유   \n",
       "1             1              라일락       아이유   \n",
       "2             2              Flu       아이유   \n",
       "3             3             Coin       아이유   \n",
       "4             4           봄 안녕 봄       아이유   \n",
       "..          ...              ...       ...   \n",
       "144         144             미운오리       아이유   \n",
       "145         145               미아       아이유   \n",
       "146         146  있잖아 (Feat. 마리오)       아이유   \n",
       "147         147     Feel So Good       아이유   \n",
       "148         148  Every Sweet Day       아이유   \n",
       "\n",
       "                                                    가사  \n",
       "0    무얼 고를까추운 겨울이니까캐시미어 스웨터는 어떨까처음이니까초록이 날까다홍색은 어떨까...  \n",
       "1    나리는 꽃가루에 눈이 따끔해 (아야)눈물이 고여도 꾹 참을래내 마음 한켠 비밀스런 ...  \n",
       "2    Doc, I’m feeling bad미열이 흐르고 또 어질어질해there’s too...  \n",
       "3    강자에게 더 세게 I love gamble과감할수록 신세계 on my tableI’...  \n",
       "4    아프던 너의 이름도이제는 미련이 아냐하얗게 잊어버린 듯 살다가또 한 번 마주치고 싶...  \n",
       "..                                                 ...  \n",
       "144  미운오리저기 멀리 어둔 하늘 보다가엄마 별이 사는 그 곳은 어딜까외로운 밤 나를 보...  \n",
       "145  우리 둘 담아 준 사진을 태워하나 둘 모아 둔 기억을 지워그만 일어나 가야 하는 걸...  \n",
       "146  Ye this song is my love story첫 눈에 반한다는 말절대로 믿지...  \n",
       "147  아침에 눈을 뜨면 다가오는 햇살햇살에 눈 비비고 일어나고일어나 남은 잠을 깨워보는s...  \n",
       "148  Hey boywhat you gonna do for me honey내 방안에 내 손...  \n",
       "\n",
       "[149 rows x 4 columns]"
      ]
     },
     "execution_count": 40,
     "metadata": {},
     "output_type": "execute_result"
    }
   ],
   "source": [
    "import pandas as pd\n",
    "\n",
    "df=pd.read_csv('./dataset/몬스타엑스_lyrics.tsv', sep = '\\t', encoding='cp949')"
   ]
  },
  {
   "cell_type": "code",
   "execution_count": 53,
   "id": "bb71e77d",
   "metadata": {},
   "outputs": [],
   "source": [
    "df= pd.concat([df1,df2,df3,df4,df5,df6,df7,df8,df9,df10])"
   ]
  },
  {
   "cell_type": "code",
   "execution_count": null,
   "id": "2c95e2db",
   "metadata": {},
   "outputs": [],
   "source": []
  },
  {
   "cell_type": "code",
   "execution_count": 45,
   "id": "1ef5a8d7",
   "metadata": {
    "scrolled": true
   },
   "outputs": [
    {
     "data": {
      "text/html": [
       "<div>\n",
       "<style scoped>\n",
       "    .dataframe tbody tr th:only-of-type {\n",
       "        vertical-align: middle;\n",
       "    }\n",
       "\n",
       "    .dataframe tbody tr th {\n",
       "        vertical-align: top;\n",
       "    }\n",
       "\n",
       "    .dataframe thead th {\n",
       "        text-align: right;\n",
       "    }\n",
       "</style>\n",
       "<table border=\"1\" class=\"dataframe\">\n",
       "  <thead>\n",
       "    <tr style=\"text-align: right;\">\n",
       "      <th></th>\n",
       "      <th>Unnamed: 0</th>\n",
       "      <th>제목</th>\n",
       "      <th>가수</th>\n",
       "      <th>가사</th>\n",
       "    </tr>\n",
       "  </thead>\n",
       "  <tbody>\n",
       "    <tr>\n",
       "      <th>0</th>\n",
       "      <td>0</td>\n",
       "      <td>얼음깨</td>\n",
       "      <td>둘째이모 김다비, ITZY (있지)</td>\n",
       "      <td>okay ay 난 그냥 맘대로 갈래이게 타고난 성격인 것 같애길을 걷다가 신나는 음...</td>\n",
       "    </tr>\n",
       "    <tr>\n",
       "      <th>1</th>\n",
       "      <td>1</td>\n",
       "      <td>마.피.아. In the morning (English Ver.)</td>\n",
       "      <td>ITZY (있지)</td>\n",
       "      <td>ShhhhhhhGuess who loves you, yeah, that’s righ...</td>\n",
       "    </tr>\n",
       "    <tr>\n",
       "      <th>2</th>\n",
       "      <td>2</td>\n",
       "      <td>마.피.아. In the morning</td>\n",
       "      <td>ITZY (있지)</td>\n",
       "      <td>ShhhhhhhGuess who loves you 나야 나Do I show you ...</td>\n",
       "    </tr>\n",
       "    <tr>\n",
       "      <th>3</th>\n",
       "      <td>3</td>\n",
       "      <td>Sorry Not Sorry</td>\n",
       "      <td>ITZY (있지)</td>\n",
       "      <td>Sorry not sorry안 미안해서 미안해가만있어도 태가 나는 걸 어째욕심이 많...</td>\n",
       "    </tr>\n",
       "    <tr>\n",
       "      <th>4</th>\n",
       "      <td>4</td>\n",
       "      <td>KIDDING ME</td>\n",
       "      <td>ITZY (있지)</td>\n",
       "      <td>뻔한 변명은 좀 지겨워 YeahBlah blah어설픈 네 표정이 좀Trouble b...</td>\n",
       "    </tr>\n",
       "    <tr>\n",
       "      <th>...</th>\n",
       "      <td>...</td>\n",
       "      <td>...</td>\n",
       "      <td>...</td>\n",
       "      <td>...</td>\n",
       "    </tr>\n",
       "    <tr>\n",
       "      <th>38</th>\n",
       "      <td>38</td>\n",
       "      <td>무서운 짝사랑</td>\n",
       "      <td>장범준</td>\n",
       "      <td>내가 널 좋아한다는 게너무 우습겠지만 그게 아니야누가 널 안 좋아하겠냐마는비웃지만 ...</td>\n",
       "    </tr>\n",
       "    <tr>\n",
       "      <th>39</th>\n",
       "      <td>39</td>\n",
       "      <td>자장가를 활용한 신곡</td>\n",
       "      <td>장범준</td>\n",
       "      <td>눈물 나게 하는 사람 이젠 어떡해울먹이는 이 마음을 나는 어떡해어긋나버린 이 상황을...</td>\n",
       "    </tr>\n",
       "    <tr>\n",
       "      <th>40</th>\n",
       "      <td>40</td>\n",
       "      <td>신풍역 2번 출구 블루스</td>\n",
       "      <td>장범준</td>\n",
       "      <td>넌 정말 모르겠지 내 맘을니가 난 좋다라는 이 말을얼마나 마셔댔는지남자로 안 보인단...</td>\n",
       "    </tr>\n",
       "    <tr>\n",
       "      <th>41</th>\n",
       "      <td>41</td>\n",
       "      <td>울랄라</td>\n",
       "      <td>장범준</td>\n",
       "      <td>날 버릴 땐 언제고이제 와서 나를 찾다니너도 정말 웃겨그 자존심은 어디 간 거니삼 ...</td>\n",
       "    </tr>\n",
       "    <tr>\n",
       "      <th>42</th>\n",
       "      <td>42</td>\n",
       "      <td>회상 (Drama Ver.)</td>\n",
       "      <td>장범준</td>\n",
       "      <td>길을 걸었지 누군가 옆에 있다고느꼈을 때 나는 알아버렸네이미 그대 떠난 후라는 걸나...</td>\n",
       "    </tr>\n",
       "  </tbody>\n",
       "</table>\n",
       "<p>921 rows × 4 columns</p>\n",
       "</div>"
      ],
      "text/plain": [
       "    Unnamed: 0                                    제목                   가수  \\\n",
       "0            0                                   얼음깨  둘째이모 김다비, ITZY (있지)   \n",
       "1            1  마.피.아. In the morning (English Ver.)            ITZY (있지)   \n",
       "2            2                 마.피.아. In the morning            ITZY (있지)   \n",
       "3            3                       Sorry Not Sorry            ITZY (있지)   \n",
       "4            4                            KIDDING ME            ITZY (있지)   \n",
       "..         ...                                   ...                  ...   \n",
       "38          38                               무서운 짝사랑                  장범준   \n",
       "39          39                           자장가를 활용한 신곡                  장범준   \n",
       "40          40                         신풍역 2번 출구 블루스                  장범준   \n",
       "41          41                                   울랄라                  장범준   \n",
       "42          42                       회상 (Drama Ver.)                  장범준   \n",
       "\n",
       "                                                   가사  \n",
       "0   okay ay 난 그냥 맘대로 갈래이게 타고난 성격인 것 같애길을 걷다가 신나는 음...  \n",
       "1   ShhhhhhhGuess who loves you, yeah, that’s righ...  \n",
       "2   ShhhhhhhGuess who loves you 나야 나Do I show you ...  \n",
       "3   Sorry not sorry안 미안해서 미안해가만있어도 태가 나는 걸 어째욕심이 많...  \n",
       "4   뻔한 변명은 좀 지겨워 YeahBlah blah어설픈 네 표정이 좀Trouble b...  \n",
       "..                                                ...  \n",
       "38  내가 널 좋아한다는 게너무 우습겠지만 그게 아니야누가 널 안 좋아하겠냐마는비웃지만 ...  \n",
       "39  눈물 나게 하는 사람 이젠 어떡해울먹이는 이 마음을 나는 어떡해어긋나버린 이 상황을...  \n",
       "40  넌 정말 모르겠지 내 맘을니가 난 좋다라는 이 말을얼마나 마셔댔는지남자로 안 보인단...  \n",
       "41  날 버릴 땐 언제고이제 와서 나를 찾다니너도 정말 웃겨그 자존심은 어디 간 거니삼 ...  \n",
       "42  길을 걸었지 누군가 옆에 있다고느꼈을 때 나는 알아버렸네이미 그대 떠난 후라는 걸나...  \n",
       "\n",
       "[921 rows x 4 columns]"
      ]
     },
     "execution_count": 45,
     "metadata": {},
     "output_type": "execute_result"
    }
   ],
   "source": [
    "df"
   ]
  },
  {
   "cell_type": "code",
   "execution_count": 54,
   "id": "21d430eb",
   "metadata": {
    "scrolled": false
   },
   "outputs": [
    {
     "name": "stdout",
     "output_type": "stream",
     "text": [
      "<class 'pandas.core.frame.DataFrame'>\n",
      "Int64Index: 921 entries, 0 to 42\n",
      "Data columns (total 4 columns):\n",
      " #   Column      Non-Null Count  Dtype \n",
      "---  ------      --------------  ----- \n",
      " 0   Unnamed: 0  921 non-null    int64 \n",
      " 1   제목          921 non-null    object\n",
      " 2   가수          921 non-null    object\n",
      " 3   가사          921 non-null    object\n",
      "dtypes: int64(1), object(3)\n",
      "memory usage: 36.0+ KB\n"
     ]
    }
   ],
   "source": [
    "df.info()"
   ]
  },
  {
   "cell_type": "code",
   "execution_count": 108,
   "id": "fb3d68f8",
   "metadata": {
    "scrolled": false
   },
   "outputs": [
    {
     "name": "stdout",
     "output_type": "stream",
     "text": [
      "<class 'pandas.core.frame.DataFrame'>\n",
      "Int64Index: 788 entries, 0 to 41\n",
      "Data columns (total 3 columns):\n",
      " #   Column  Non-Null Count  Dtype \n",
      "---  ------  --------------  ----- \n",
      " 0   제목      788 non-null    object\n",
      " 1   가수      788 non-null    object\n",
      " 2   가사      788 non-null    object\n",
      "dtypes: object(3)\n",
      "memory usage: 24.6+ KB\n"
     ]
    }
   ],
   "source": [
    "df_d.info()"
   ]
  },
  {
   "cell_type": "code",
   "execution_count": 116,
   "id": "0a8d704d",
   "metadata": {},
   "outputs": [],
   "source": [
    "df_d=df_d[~df_d['가사'].str.contains(\"撫摸他不假思索 謀\", na=False, case=False)] #정규식으로 english ver 포함된 행 삭제"
   ]
  },
  {
   "cell_type": "code",
   "execution_count": null,
   "id": "b6503948",
   "metadata": {},
   "outputs": [],
   "source": [
    "# ver. , inst , 일본어, 영어노래 지우기"
   ]
  },
  {
   "cell_type": "markdown",
   "id": "c0fd0f3a",
   "metadata": {},
   "source": [
    "## ------------------------------------------------------------------------------"
   ]
  },
  {
   "cell_type": "code",
   "execution_count": 118,
   "id": "1827d9bc",
   "metadata": {},
   "outputs": [],
   "source": [
    "df_d=df_d.drop(['제목'], axis=1)"
   ]
  },
  {
   "cell_type": "code",
   "execution_count": 119,
   "id": "ba50fa05",
   "metadata": {},
   "outputs": [
    {
     "data": {
      "text/html": [
       "<div>\n",
       "<style scoped>\n",
       "    .dataframe tbody tr th:only-of-type {\n",
       "        vertical-align: middle;\n",
       "    }\n",
       "\n",
       "    .dataframe tbody tr th {\n",
       "        vertical-align: top;\n",
       "    }\n",
       "\n",
       "    .dataframe thead th {\n",
       "        text-align: right;\n",
       "    }\n",
       "</style>\n",
       "<table border=\"1\" class=\"dataframe\">\n",
       "  <thead>\n",
       "    <tr style=\"text-align: right;\">\n",
       "      <th></th>\n",
       "      <th>가수</th>\n",
       "      <th>가사</th>\n",
       "    </tr>\n",
       "  </thead>\n",
       "  <tbody>\n",
       "    <tr>\n",
       "      <th>0</th>\n",
       "      <td>둘째이모 김다비, ITZY (있지)</td>\n",
       "      <td>okay ay 난 그냥 맘대로 갈래이게 타고난 성격인 것 같애길을 걷다가 신나는 음...</td>\n",
       "    </tr>\n",
       "    <tr>\n",
       "      <th>2</th>\n",
       "      <td>ITZY (있지)</td>\n",
       "      <td>ShhhhhhhGuess who loves you 나야 나Do I show you ...</td>\n",
       "    </tr>\n",
       "    <tr>\n",
       "      <th>3</th>\n",
       "      <td>ITZY (있지)</td>\n",
       "      <td>Sorry not sorry안 미안해서 미안해가만있어도 태가 나는 걸 어째욕심이 많...</td>\n",
       "    </tr>\n",
       "    <tr>\n",
       "      <th>4</th>\n",
       "      <td>ITZY (있지)</td>\n",
       "      <td>뻔한 변명은 좀 지겨워 YeahBlah blah어설픈 네 표정이 좀Trouble b...</td>\n",
       "    </tr>\n",
       "    <tr>\n",
       "      <th>5</th>\n",
       "      <td>ITZY (있지)</td>\n",
       "      <td>찔리지 않게 조심해겉으론 가시들이 좀 많아 No no no배려가 좀 없어도 Rude...</td>\n",
       "    </tr>\n",
       "    <tr>\n",
       "      <th>...</th>\n",
       "      <td>...</td>\n",
       "      <td>...</td>\n",
       "    </tr>\n",
       "    <tr>\n",
       "      <th>37</th>\n",
       "      <td>장범준</td>\n",
       "      <td>너에게 눈을 감고 나는 떨어요그녀에게 나는 미처 닿진 않아요왜 너에겐 나는 지쳐 몸...</td>\n",
       "    </tr>\n",
       "    <tr>\n",
       "      <th>38</th>\n",
       "      <td>장범준</td>\n",
       "      <td>내가 널 좋아한다는 게너무 우습겠지만 그게 아니야누가 널 안 좋아하겠냐마는비웃지만 ...</td>\n",
       "    </tr>\n",
       "    <tr>\n",
       "      <th>39</th>\n",
       "      <td>장범준</td>\n",
       "      <td>눈물 나게 하는 사람 이젠 어떡해울먹이는 이 마음을 나는 어떡해어긋나버린 이 상황을...</td>\n",
       "    </tr>\n",
       "    <tr>\n",
       "      <th>40</th>\n",
       "      <td>장범준</td>\n",
       "      <td>넌 정말 모르겠지 내 맘을니가 난 좋다라는 이 말을얼마나 마셔댔는지남자로 안 보인단...</td>\n",
       "    </tr>\n",
       "    <tr>\n",
       "      <th>41</th>\n",
       "      <td>장범준</td>\n",
       "      <td>날 버릴 땐 언제고이제 와서 나를 찾다니너도 정말 웃겨그 자존심은 어디 간 거니삼 ...</td>\n",
       "    </tr>\n",
       "  </tbody>\n",
       "</table>\n",
       "<p>781 rows × 2 columns</p>\n",
       "</div>"
      ],
      "text/plain": [
       "                     가수                                                 가사\n",
       "0   둘째이모 김다비, ITZY (있지)  okay ay 난 그냥 맘대로 갈래이게 타고난 성격인 것 같애길을 걷다가 신나는 음...\n",
       "2             ITZY (있지)  ShhhhhhhGuess who loves you 나야 나Do I show you ...\n",
       "3             ITZY (있지)  Sorry not sorry안 미안해서 미안해가만있어도 태가 나는 걸 어째욕심이 많...\n",
       "4             ITZY (있지)  뻔한 변명은 좀 지겨워 YeahBlah blah어설픈 네 표정이 좀Trouble b...\n",
       "5             ITZY (있지)  찔리지 않게 조심해겉으론 가시들이 좀 많아 No no no배려가 좀 없어도 Rude...\n",
       "..                  ...                                                ...\n",
       "37                  장범준  너에게 눈을 감고 나는 떨어요그녀에게 나는 미처 닿진 않아요왜 너에겐 나는 지쳐 몸...\n",
       "38                  장범준  내가 널 좋아한다는 게너무 우습겠지만 그게 아니야누가 널 안 좋아하겠냐마는비웃지만 ...\n",
       "39                  장범준  눈물 나게 하는 사람 이젠 어떡해울먹이는 이 마음을 나는 어떡해어긋나버린 이 상황을...\n",
       "40                  장범준  넌 정말 모르겠지 내 맘을니가 난 좋다라는 이 말을얼마나 마셔댔는지남자로 안 보인단...\n",
       "41                  장범준  날 버릴 땐 언제고이제 와서 나를 찾다니너도 정말 웃겨그 자존심은 어디 간 거니삼 ...\n",
       "\n",
       "[781 rows x 2 columns]"
      ]
     },
     "execution_count": 119,
     "metadata": {},
     "output_type": "execute_result"
    }
   ],
   "source": [
    "df_d"
   ]
  },
  {
   "cell_type": "code",
   "execution_count": 123,
   "id": "3627804e",
   "metadata": {},
   "outputs": [],
   "source": [
    "df_d.to_csv('./dataset/all_lyrics_갸수&가사.tsv',sep='\\t',index=False)"
   ]
  },
  {
   "cell_type": "code",
   "execution_count": 121,
   "id": "50b29a74",
   "metadata": {},
   "outputs": [],
   "source": [
    "df_d.columns=['singer','lyrics']"
   ]
  },
  {
   "cell_type": "code",
   "execution_count": 46,
   "id": "b180be16",
   "metadata": {},
   "outputs": [],
   "source": [
    "df_d.to_csv('./dataset/all_lyrics.tsv',sep='\\t',index=False)"
   ]
  },
  {
   "cell_type": "code",
   "execution_count": 3,
   "id": "32f81b3f",
   "metadata": {},
   "outputs": [],
   "source": [
    "import pandas as pd\n",
    "\n",
    "lyrics=pd.read_csv('./dataset/all_lyrics.tsv', sep = '\\t', encoding='utf-8')"
   ]
  },
  {
   "cell_type": "code",
   "execution_count": 5,
   "id": "9e739b34",
   "metadata": {},
   "outputs": [
    {
     "name": "stdout",
     "output_type": "stream",
     "text": [
      "<class 'pandas.core.frame.DataFrame'>\n",
      "RangeIndex: 781 entries, 0 to 780\n",
      "Data columns (total 2 columns):\n",
      " #   Column  Non-Null Count  Dtype \n",
      "---  ------  --------------  ----- \n",
      " 0   singer  781 non-null    object\n",
      " 1   lyrics  781 non-null    object\n",
      "dtypes: object(2)\n",
      "memory usage: 12.3+ KB\n"
     ]
    }
   ],
   "source": [
    "lyrics.info()"
   ]
  },
  {
   "cell_type": "code",
   "execution_count": 4,
   "id": "6ef33cff",
   "metadata": {},
   "outputs": [
    {
     "name": "stdout",
     "output_type": "stream",
     "text": [
      "<class 'pandas.core.frame.DataFrame'>\n",
      "RangeIndex: 137 entries, 0 to 136\n",
      "Data columns (total 1 columns):\n",
      " #   Column  Non-Null Count  Dtype \n",
      "---  ------  --------------  ----- \n",
      " 0   lyrics  137 non-null    object\n",
      "dtypes: object(1)\n",
      "memory usage: 1.2+ KB\n"
     ]
    }
   ],
   "source": [
    "import pandas as pd\n",
    "\n",
    "df=pd.read_csv('./dataset/아이유_lyrics.tsv', sep = '\\t', encoding='utf-8')\n",
    "df.info()"
   ]
  },
  {
   "cell_type": "code",
   "execution_count": 5,
   "id": "37413644",
   "metadata": {},
   "outputs": [
    {
     "name": "stdout",
     "output_type": "stream",
     "text": [
      "<class 'pandas.core.frame.DataFrame'>\n",
      "RangeIndex: 134 entries, 0 to 133\n",
      "Data columns (total 1 columns):\n",
      " #   Column  Non-Null Count  Dtype \n",
      "---  ------  --------------  ----- \n",
      " 0   lyrics  134 non-null    object\n",
      "dtypes: object(1)\n",
      "memory usage: 1.2+ KB\n"
     ]
    }
   ],
   "source": [
    "import pandas as pd\n",
    "\n",
    "df=pd.read_csv('./dataset/몬스타엑스_lyrics.tsv', sep = '\\t', encoding='utf-8')\n",
    "df.info()"
   ]
  },
  {
   "cell_type": "code",
   "execution_count": null,
   "id": "ced1866c",
   "metadata": {},
   "outputs": [],
   "source": []
  }
 ],
 "metadata": {
  "kernelspec": {
   "display_name": "Python 3",
   "language": "python",
   "name": "python3"
  },
  "language_info": {
   "codemirror_mode": {
    "name": "ipython",
    "version": 3
   },
   "file_extension": ".py",
   "mimetype": "text/x-python",
   "name": "python",
   "nbconvert_exporter": "python",
   "pygments_lexer": "ipython3",
   "version": "3.8.5"
  }
 },
 "nbformat": 4,
 "nbformat_minor": 5
}
