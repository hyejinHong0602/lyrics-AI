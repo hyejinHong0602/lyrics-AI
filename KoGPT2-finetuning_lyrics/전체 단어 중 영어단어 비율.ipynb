{
 "cells": [
  {
   "cell_type": "markdown",
   "metadata": {},
   "source": [
    "## itzy"
   ]
  },
  {
   "cell_type": "code",
   "execution_count": 2,
   "metadata": {},
   "outputs": [
    {
     "data": {
      "text/plain": [
       "list"
      ]
     },
     "execution_count": 2,
     "metadata": {},
     "output_type": "execute_result"
    }
   ],
   "source": [
    "from collections import Counter\n",
    " \n",
    "f = open('dataset/itzy_lyrics.tsv', 'r', encoding='utf-8') \n",
    " \n",
    "words_itzy = f.read().split() # 파일을 불러와 단어 단위로 split(자른) 수를 세어 count 변수에 저장\n",
    "type(words_itzy)"
   ]
  },
  {
   "cell_type": "code",
   "execution_count": 3,
   "metadata": {},
   "outputs": [
    {
     "data": {
      "text/plain": [
       "6446"
      ]
     },
     "execution_count": 3,
     "metadata": {},
     "output_type": "execute_result"
    }
   ],
   "source": [
    "len(words_itzy)"
   ]
  },
  {
   "cell_type": "code",
   "execution_count": 4,
   "metadata": {},
   "outputs": [
    {
     "name": "stdout",
     "output_type": "stream",
     "text": [
      "3074 3372\n"
     ]
    }
   ],
   "source": [
    "import re\n",
    "reg = re.compile(r'[a-zA-Z]')\n",
    "num_korean=0\n",
    "num_english=0\n",
    "for i in words_itzy:\n",
    "\n",
    "    if reg.match(i):\n",
    "        num_english+=1\n",
    "    else:\n",
    "        num_korean+=1\n",
    "    \n",
    "print(num_korean, num_english)"
   ]
  },
  {
   "cell_type": "code",
   "execution_count": 9,
   "metadata": {},
   "outputs": [],
   "source": [
    "#퍼센트\n",
    "english_percent_itzy=num_english/len(words_itzy)*100"
   ]
  },
  {
   "cell_type": "code",
   "execution_count": 11,
   "metadata": {
    "scrolled": true
   },
   "outputs": [
    {
     "name": "stdout",
     "output_type": "stream",
     "text": [
      "52.31151101458269\n"
     ]
    }
   ],
   "source": [
    "print(english_percent_itzy)"
   ]
  },
  {
   "cell_type": "markdown",
   "metadata": {},
   "source": [
    "## -----------------------------------------"
   ]
  },
  {
   "cell_type": "code",
   "execution_count": 12,
   "metadata": {},
   "outputs": [
    {
     "name": "stdout",
     "output_type": "stream",
     "text": [
      "19089 11984\n",
      "38.56724487497184\n"
     ]
    }
   ],
   "source": [
    "from collections import Counter\n",
    "import re\n",
    "\n",
    "f = open('dataset/몬스타엑스_lyrics.tsv', 'r', encoding='utf-8') \n",
    " \n",
    "words_몬스타엑스 = f.read().split() # 파일을 불러와 단어 단위로 split(자른) 수를 세어 count 변수에 저장\n",
    "\n",
    "reg = re.compile(r'[a-zA-Z]')\n",
    "num_korean=0\n",
    "num_english=0\n",
    "for i in words_몬스타엑스:\n",
    "\n",
    "    if reg.match(i):\n",
    "        num_english+=1\n",
    "    else:\n",
    "        num_korean+=1\n",
    "    \n",
    "print(num_korean, num_english)\n",
    "\n",
    "#퍼센트\n",
    "english_percent_몬스타엑스=num_english/len(words_몬스타엑스)*100\n",
    "\n",
    "print(english_percent_몬스타엑스)"
   ]
  },
  {
   "cell_type": "code",
   "execution_count": 1,
   "metadata": {},
   "outputs": [
    {
     "name": "stdout",
     "output_type": "stream",
     "text": [
      "9824 2946\n",
      "23.06969459671104\n"
     ]
    }
   ],
   "source": [
    "from collections import Counter\n",
    "import re\n",
    "\n",
    "f = open('dataset/선우정아_lyrics.tsv', 'r', encoding='utf-8') \n",
    " \n",
    "words_선우정아 = f.read().split() # 파일을 불러와 단어 단위로 split(자른) 수를 세어 count 변수에 저장\n",
    "\n",
    "reg = re.compile(r'[a-zA-Z]')\n",
    "num_korean=0\n",
    "num_english=0\n",
    "for i in words_선우정아:\n",
    "\n",
    "    if reg.match(i):\n",
    "        num_english+=1\n",
    "    else:\n",
    "        num_korean+=1\n",
    "    \n",
    "print(num_korean, num_english)\n",
    "\n",
    "#퍼센트\n",
    "english_percent_선우정아=num_english/len(words_선우정아)*100\n",
    "\n",
    "print(english_percent_선우정아)"
   ]
  },
  {
   "cell_type": "code",
   "execution_count": 14,
   "metadata": {},
   "outputs": [
    {
     "name": "stdout",
     "output_type": "stream",
     "text": [
      "14102 2573\n",
      "15.430284857571214\n"
     ]
    }
   ],
   "source": [
    "from collections import Counter\n",
    "import re\n",
    "\n",
    "f = open('dataset/아이유_lyrics.tsv', 'r', encoding='utf-8') \n",
    " \n",
    "words_아이유 = f.read().split() # 파일을 불러와 단어 단위로 split(자른) 수를 세어 count 변수에 저장\n",
    "\n",
    "reg = re.compile(r'[a-zA-Z]')\n",
    "num_korean=0\n",
    "num_english=0\n",
    "for i in words_아이유:\n",
    "\n",
    "    if reg.match(i):\n",
    "        num_english+=1\n",
    "    else:\n",
    "        num_korean+=1\n",
    "    \n",
    "print(num_korean, num_english)\n",
    "\n",
    "#퍼센트\n",
    "english_percent_아이유=num_english/len(words_아이유)*100\n",
    "\n",
    "print(english_percent_아이유)"
   ]
  },
  {
   "cell_type": "code",
   "execution_count": 15,
   "metadata": {},
   "outputs": [
    {
     "name": "stdout",
     "output_type": "stream",
     "text": [
      "10462 294\n",
      "2.733358125697285\n"
     ]
    }
   ],
   "source": [
    "from collections import Counter\n",
    "import re\n",
    "\n",
    "f = open('dataset/노라조_lyrics.tsv', 'r', encoding='utf-8') \n",
    " \n",
    "words_노라조 = f.read().split() # 파일을 불러와 단어 단위로 split(자른) 수를 세어 count 변수에 저장\n",
    "\n",
    "reg = re.compile(r'[a-zA-Z]')\n",
    "num_korean=0\n",
    "num_english=0\n",
    "for i in words_노라조:\n",
    "\n",
    "    if reg.match(i):\n",
    "        num_english+=1\n",
    "    else:\n",
    "        num_korean+=1\n",
    "    \n",
    "print(num_korean, num_english)\n",
    "\n",
    "#퍼센트\n",
    "english_percent_노라조=num_english/len(words_노라조)*100\n",
    "\n",
    "print(english_percent_노라조)"
   ]
  },
  {
   "cell_type": "markdown",
   "metadata": {},
   "source": [
    "## --------------------"
   ]
  },
  {
   "cell_type": "code",
   "execution_count": 20,
   "metadata": {},
   "outputs": [
    {
     "name": "stdout",
     "output_type": "stream",
     "text": [
      "33 32\n",
      "49.23076923076923\n"
     ]
    }
   ],
   "source": [
    "from collections import Counter\n",
    "import re\n",
    "\n",
    "f = '나를 외치며 외쳐라 Imma make it myself난 멈추는 법을 몰라 Imma make it myself난 멈추는 법을 몰라 차갑게 보여도 어떡해Cool한 나니까 눈치 볼 마음 없어Oh Come on 당당하게 Let it go Here we go 길거리를 누비고On a rollBackground 너를 보고 싶어 나야 나지만 널 원해 원해 원해 원해 We gon’run this town like we ain’t got no tomorrow20 carat diamond너는 확 눈이 멀어Can’t nobody hold'\n",
    " \n",
    "words_있지_G = f.split() # 파일을 불러와 단어 단위로 split(자른) 수를 세어 count 변수에 저장\n",
    "\n",
    "reg = re.compile(r'[a-zA-Z]')\n",
    "num_korean=0\n",
    "num_english=0\n",
    "for i in words_있지_G:\n",
    "\n",
    "    if reg.match(i):\n",
    "        num_english+=1\n",
    "    else:\n",
    "        num_korean+=1\n",
    "    \n",
    "print(num_korean, num_english)\n",
    "\n",
    "#퍼센트\n",
    "english_percent_있지_G=num_english/len(words_있지_G)*100\n",
    "\n",
    "print(english_percent_있지_G)"
   ]
  },
  {
   "cell_type": "code",
   "execution_count": 23,
   "metadata": {},
   "outputs": [
    {
     "name": "stdout",
     "output_type": "stream",
     "text": [
      "91 34\n",
      "27.200000000000003\n"
     ]
    }
   ],
   "source": [
    "from collections import Counter\n",
    "import re\n",
    "\n",
    "f = '나를 노래해 이 시대 가장 아름다운 목소리 남긴 노래 가사 중 하나가 돈과 사랑에 미쳐 허전해 이런 나를 두고 넌 왜 자꾸 Hope MeSwitch을 불러 My baby youre so beautiful 왜냐면 널 갖고 싶어 Youre so beautiful왜냐면 Its your beautiful beautiful왜냐면 Its your beautiful beautiful왜냐면 Its your beautiful beautiful왜냐면 Its your beautiful beautiful 너를 본 그 순간부터 머릿속은 black out그 어둠 속에서 너 혼자서만 빛나 날 보는 눈빛은 블랙홀 위험할 것 같아 근데 한 없이 빠져들어 분홍빛 입술과 pony tail목소리 다 내 스타일 이미 다른 여자들과는 비교가 안돼 너가 걸어오면서 뿜어내는 빛이 두 눈을 감아도 선명하게 보여 거짓말처럼 니가 눈에 보여 다른 일들은 할 수 없어 매일 매일 이제 난 너만 생각해 하루종일동안 my baby오직 너만 생각해 다시 만나게 될 날을 기다려 나는Oh This is'\n",
    "words_몬스타엑스_G = f.split() # 파일을 불러와 단어 단위로 split(자른) 수를 세어 count 변수에 저장\n",
    "\n",
    "reg = re.compile(r'[a-zA-Z]')\n",
    "num_korean=0\n",
    "num_english=0\n",
    "for i in words_몬스타엑스_G:\n",
    "\n",
    "    if reg.match(i):\n",
    "        num_english+=1\n",
    "    else:\n",
    "        num_korean+=1\n",
    "    \n",
    "print(num_korean, num_english)\n",
    "\n",
    "#퍼센트\n",
    "english_percent_몬스타엑스_G=num_english/len(words_몬스타엑스_G)*100\n",
    "\n",
    "print(english_percent_몬스타엑스_G)"
   ]
  },
  {
   "cell_type": "markdown",
   "metadata": {},
   "source": [
    "## ------------------------------"
   ]
  },
  {
   "cell_type": "code",
   "execution_count": 26,
   "metadata": {
    "scrolled": true
   },
   "outputs": [
    {
     "name": "stdout",
     "output_type": "stream",
     "text": [
      "단어 출력 횟수 :  Counter({'beautiful': 6, 'beautiful왜냐면': 4, 'Its': 4, 'your': 4, '나를': 2, 'so': 2, '다른': 2, '보여': 2, '매일': 2, '너만': 2, '생각해': 2, '노래해': 1, '이': 1, '시대': 1, '가장': 1, '아름다운': 1, '목소리': 1, '남긴': 1, '노래': 1, '가사': 1, '중': 1, '하나가': 1, '돈과': 1, '사랑에': 1, '미쳐': 1, '허전해': 1, '이런': 1, '두고': 1, '넌': 1, '왜': 1, '자꾸': 1, 'Hope': 1, 'MeSwitch을': 1, '불러': 1, 'My': 1, 'baby': 1, 'youre': 1, '왜냐면': 1, '널': 1, '갖고': 1, '싶어': 1, 'Youre': 1, '너를': 1, '본': 1, '그': 1, '순간부터': 1, '머릿속은': 1, 'black': 1, 'out그': 1, '어둠': 1, '속에서': 1, '너': 1, '혼자서만': 1, '빛나': 1, '날': 1, '보는': 1, '눈빛은': 1, '블랙홀': 1, '위험할': 1, '것': 1, '같아': 1, '근데': 1, '한': 1, '없이': 1, '빠져들어': 1, '분홍빛': 1, '입술과': 1, 'pony': 1, 'tail목소리': 1, '다': 1, '내': 1, '스타일': 1, '이미': 1, '여자들과는': 1, '비교가': 1, '안돼': 1, '너가': 1, '걸어오면서': 1, '뿜어내는': 1, '빛이': 1, '두': 1, '눈을': 1, '감아도': 1, '선명하게': 1, '거짓말처럼': 1, '니가': 1, '눈에': 1, '일들은': 1, '할': 1, '수': 1, '없어': 1, '이제': 1, '난': 1, '하루종일동안': 1, 'my': 1, 'baby오직': 1, '다시': 1, '만나게': 1, '될': 1, '날을': 1, '기다려': 1, '나는Oh': 1, 'This': 1, 'is': 1})\n"
     ]
    }
   ],
   "source": [
    "from collections import Counter\n",
    " \n",
    "f = '나를 노래해 이 시대 가장 아름다운 목소리 남긴 노래 가사 중 하나가 돈과 사랑에 미쳐 허전해 이런 나를 두고 넌 왜 자꾸 Hope MeSwitch을 불러 My baby youre so beautiful 왜냐면 널 갖고 싶어 Youre so beautiful왜냐면 Its your beautiful beautiful왜냐면 Its your beautiful beautiful왜냐면 Its your beautiful beautiful왜냐면 Its your beautiful beautiful 너를 본 그 순간부터 머릿속은 black out그 어둠 속에서 너 혼자서만 빛나 날 보는 눈빛은 블랙홀 위험할 것 같아 근데 한 없이 빠져들어 분홍빛 입술과 pony tail목소리 다 내 스타일 이미 다른 여자들과는 비교가 안돼 너가 걸어오면서 뿜어내는 빛이 두 눈을 감아도 선명하게 보여 거짓말처럼 니가 눈에 보여 다른 일들은 할 수 없어 매일 매일 이제 난 너만 생각해 하루종일동안 my baby오직 너만 생각해 다시 만나게 될 날을 기다려 나는Oh This is'\n",
    "\n",
    "count = Counter(f.split()) # 파일을 불러와 단어 단위로 split(자른) 수를 세어 count 변수에 저장\n",
    "print(\"단어 출력 횟수 : \", count) # 출력"
   ]
  },
  {
   "cell_type": "code",
   "execution_count": 27,
   "metadata": {},
   "outputs": [
    {
     "name": "stdout",
     "output_type": "stream",
     "text": [
      "단어 출력 횟수 :  Counter({'원해': 4, 'it': 3, 'Imma': 2, 'make': 2, 'myself난': 2, '멈추는': 2, '법을': 2, '몰라': 2, 'go': 2, 'we': 2, '나를': 1, '외치며': 1, '외쳐라': 1, '차갑게': 1, '보여도': 1, '어떡해Cool한': 1, '나니까': 1, '눈치': 1, '볼': 1, '마음': 1, '없어Oh': 1, 'Come': 1, 'on': 1, '당당하게': 1, 'Let': 1, 'Here': 1, '길거리를': 1, '누비고On': 1, 'a': 1, 'rollBackground': 1, '너를': 1, '보고': 1, '싶어': 1, '나야': 1, '나지만': 1, '널': 1, 'We': 1, 'gon’run': 1, 'this': 1, 'town': 1, 'like': 1, 'ain’t': 1, 'got': 1, 'no': 1, 'tomorrow20': 1, 'carat': 1, 'diamond너는': 1, '확': 1, '눈이': 1, '멀어Can’t': 1, 'nobody': 1, 'hold': 1})\n"
     ]
    }
   ],
   "source": [
    "from collections import Counter\n",
    " \n",
    "f = '나를 외치며 외쳐라 Imma make it myself난 멈추는 법을 몰라 Imma make it myself난 멈추는 법을 몰라 차갑게 보여도 어떡해Cool한 나니까 눈치 볼 마음 없어Oh Come on 당당하게 Let it go Here we go 길거리를 누비고On a rollBackground 너를 보고 싶어 나야 나지만 널 원해 원해 원해 원해 We gon’run this town like we ain’t got no tomorrow20 carat diamond너는 확 눈이 멀어Can’t nobody hold'\n",
    " \n",
    "count = Counter(f.split()) # 파일을 불러와 단어 단위로 split(자른) 수를 세어 count 변수에 저장\n",
    "print(\"단어 출력 횟수 : \", count) # 출력"
   ]
  },
  {
   "cell_type": "code",
   "execution_count": 28,
   "metadata": {
    "scrolled": true
   },
   "outputs": [
    {
     "name": "stdout",
     "output_type": "stream",
     "text": [
      "단어 출력 횟수 :  Counter({'눈을': 3, '정말': 3, '예뻐지자고': 3, '눈물이': 2, '잠시만': 2, '가만히': 2, '있으면': 2, '뜨지': 2, '않아': 2, '그': 2, '목소리': 2, '불러줘': 2, '나를': 1, '부를': 1, '때': 1, '나는': 1, '왜': 1, '숨을': 1, '쉬지': 1, '못하고': 1, '비틀거리는': 1, '거야': 1, '멈추질': 1, '않아서': 1, '뜨면': 1, '꺼져': 1, '있는': 1, '꿈속을': 1, '바라보면서': 1, '나도': 1, '모르게': 1, '흘러': 1, '나오고': 1, '마음을': 1, '다': 1, '비우면': 1, '나': 1, '혼자만의': 1, '방으로': 1, '들어가서': 1, '너를': 1, '부르고': 1, '싶었어': 1, '그래': 1, '불러줘줘': 1, '불렀던': 1, '널': 1, '불러줬던': 1, '잊고': 1, '살다': 1, '보니까': 1, '이렇게': 1, '아름다운날만': 1, '있다면': 1, '참': 1, '좋겠습니다': 1, '좋은': 1, '꿈': 1, '꾸시고': 1, '안녕히': 1, '계세요': 1})\n"
     ]
    }
   ],
   "source": [
    "from collections import Counter\n",
    " \n",
    "f = '나를 부를 때 나는 왜 숨을 쉬지 못하고 비틀거리는 거야 눈물이 멈추질 않아서 잠시만 가만히 있으면 눈을 뜨면 눈을 뜨지 않아 꺼져 있는 꿈속을 바라보면서 나도 모르게 눈물이 흘러 나오고 마음을 다 비우면 나 혼자만의 방으로 들어가서 잠시만 가만히 있으면 눈을 뜨지 않아 너를 부르고 싶었어 그래 불러줘줘 정말 예뻐지자고 불렀던 그 목소리 널 불러줘 정말 예뻐지자고 불러줘 정말 예뻐지자고 불러줬던 그 목소리 잊고 살다 보니까 이렇게 아름다운날만 있다면 참 좋겠습니다 좋은 꿈 꾸시고 안녕히 계세요'\n",
    "count = Counter(f.split()) # 파일을 불러와 단어 단위로 split(자른) 수를 세어 count 변수에 저장\n",
    "print(\"단어 출력 횟수 : \", count) # 출력"
   ]
  },
  {
   "cell_type": "code",
   "execution_count": 33,
   "metadata": {},
   "outputs": [],
   "source": [
    "import pandas as pd\n",
    "df = pd.DataFrame.from_records(list(dict(count).items()), columns=['word','num'])"
   ]
  },
  {
   "cell_type": "code",
   "execution_count": 34,
   "metadata": {},
   "outputs": [
    {
     "data": {
      "text/html": [
       "<div>\n",
       "<style scoped>\n",
       "    .dataframe tbody tr th:only-of-type {\n",
       "        vertical-align: middle;\n",
       "    }\n",
       "\n",
       "    .dataframe tbody tr th {\n",
       "        vertical-align: top;\n",
       "    }\n",
       "\n",
       "    .dataframe thead th {\n",
       "        text-align: right;\n",
       "    }\n",
       "</style>\n",
       "<table border=\"1\" class=\"dataframe\">\n",
       "  <thead>\n",
       "    <tr style=\"text-align: right;\">\n",
       "      <th></th>\n",
       "      <th>word</th>\n",
       "      <th>num</th>\n",
       "    </tr>\n",
       "  </thead>\n",
       "  <tbody>\n",
       "    <tr>\n",
       "      <th>0</th>\n",
       "      <td>나를</td>\n",
       "      <td>1</td>\n",
       "    </tr>\n",
       "    <tr>\n",
       "      <th>1</th>\n",
       "      <td>부를</td>\n",
       "      <td>1</td>\n",
       "    </tr>\n",
       "    <tr>\n",
       "      <th>2</th>\n",
       "      <td>때</td>\n",
       "      <td>1</td>\n",
       "    </tr>\n",
       "    <tr>\n",
       "      <th>3</th>\n",
       "      <td>나는</td>\n",
       "      <td>1</td>\n",
       "    </tr>\n",
       "    <tr>\n",
       "      <th>4</th>\n",
       "      <td>왜</td>\n",
       "      <td>1</td>\n",
       "    </tr>\n",
       "    <tr>\n",
       "      <th>...</th>\n",
       "      <td>...</td>\n",
       "      <td>...</td>\n",
       "    </tr>\n",
       "    <tr>\n",
       "      <th>56</th>\n",
       "      <td>좋은</td>\n",
       "      <td>1</td>\n",
       "    </tr>\n",
       "    <tr>\n",
       "      <th>57</th>\n",
       "      <td>꿈</td>\n",
       "      <td>1</td>\n",
       "    </tr>\n",
       "    <tr>\n",
       "      <th>58</th>\n",
       "      <td>꾸시고</td>\n",
       "      <td>1</td>\n",
       "    </tr>\n",
       "    <tr>\n",
       "      <th>59</th>\n",
       "      <td>안녕히</td>\n",
       "      <td>1</td>\n",
       "    </tr>\n",
       "    <tr>\n",
       "      <th>60</th>\n",
       "      <td>계세요</td>\n",
       "      <td>1</td>\n",
       "    </tr>\n",
       "  </tbody>\n",
       "</table>\n",
       "<p>61 rows × 2 columns</p>\n",
       "</div>"
      ],
      "text/plain": [
       "   word  num\n",
       "0    나를    1\n",
       "1    부를    1\n",
       "2     때    1\n",
       "3    나는    1\n",
       "4     왜    1\n",
       "..  ...  ...\n",
       "56   좋은    1\n",
       "57    꿈    1\n",
       "58  꾸시고    1\n",
       "59  안녕히    1\n",
       "60  계세요    1\n",
       "\n",
       "[61 rows x 2 columns]"
      ]
     },
     "execution_count": 34,
     "metadata": {},
     "output_type": "execute_result"
    }
   ],
   "source": [
    "df"
   ]
  },
  {
   "cell_type": "code",
   "execution_count": 36,
   "metadata": {},
   "outputs": [],
   "source": [
    "import numpy as np\n",
    "list_iu=list(np.array(df['word'].tolist()))"
   ]
  },
  {
   "cell_type": "code",
   "execution_count": 47,
   "metadata": {},
   "outputs": [
    {
     "name": "stdout",
     "output_type": "stream",
     "text": [
      "you 115\n",
      "love 79\n",
      "my 58\n",
      "나를 51\n",
      "the 44\n",
      "is 44\n",
      "없는 42\n",
      "다시 42\n",
      "내가 39\n",
      "나의 38\n",
      "있는 38\n",
      "me 33\n",
      "need 33\n",
      "모든 32\n",
      "너의 31\n",
      "없이 31\n",
      "너를 29\n",
      "사랑 29\n",
      "같은 28\n",
      "My 28\n",
      "손을 28\n",
      "your 27\n",
      "for 27\n",
      "보고 27\n",
      "정말 27\n",
      "Oh 25\n",
      "all 25\n",
      "눈을 24\n",
      "너무 24\n",
      "tak 24\n",
      "우리 23\n",
      "oh 23\n",
      "so 23\n",
      "수가 22\n",
      "않는 22\n",
      "하는 22\n",
      "사람 22\n",
      "하나 22\n",
      "가득 22\n",
      "그렇게 21\n",
      "know 21\n",
      "내게 21\n",
      "다른 20\n",
      "baby 20\n",
      "마음 19\n",
      "않을 19\n",
      "속에 19\n",
      "위에 19\n",
      "사랑이 19\n",
      "너만 19\n",
      "50\n"
     ]
    }
   ],
   "source": [
    "from collections import Counter\n",
    "word_num = 0\n",
    "iu_word=[]\n",
    "with open('dataset/아이유_lyrics.tsv', 'r', encoding='utf-8') as f:\n",
    "    words = [w.strip('.,') for w in f.read().split()]\n",
    "    for w, c in Counter(words).most_common(100):\n",
    "        if len(w)!=1:\n",
    "            print(w, c)\n",
    "            iu_word.append(w)\n",
    "            word_num += 1\n",
    "            if word_num==50:\n",
    "                break;\n",
    "print(len(iu_word))"
   ]
  },
  {
   "cell_type": "code",
   "execution_count": 48,
   "metadata": {},
   "outputs": [
    {
     "data": {
      "text/plain": [
       "['you',\n",
       " 'love',\n",
       " 'my',\n",
       " '나를',\n",
       " 'the',\n",
       " 'is',\n",
       " '없는',\n",
       " '다시',\n",
       " '내가',\n",
       " '나의',\n",
       " '있는',\n",
       " 'me',\n",
       " 'need',\n",
       " '모든',\n",
       " '너의',\n",
       " '없이',\n",
       " '너를',\n",
       " '사랑',\n",
       " '같은',\n",
       " 'My',\n",
       " '손을',\n",
       " 'your',\n",
       " 'for',\n",
       " '보고',\n",
       " '정말',\n",
       " 'Oh',\n",
       " 'all',\n",
       " '눈을',\n",
       " '너무',\n",
       " 'tak',\n",
       " '우리',\n",
       " 'oh',\n",
       " 'so',\n",
       " '수가',\n",
       " '않는',\n",
       " '하는',\n",
       " '사람',\n",
       " '하나',\n",
       " '가득',\n",
       " '그렇게',\n",
       " 'know',\n",
       " '내게',\n",
       " '다른',\n",
       " 'baby',\n",
       " '마음',\n",
       " '않을',\n",
       " '속에',\n",
       " '위에',\n",
       " '사랑이',\n",
       " '너만']"
      ]
     },
     "execution_count": 48,
     "metadata": {},
     "output_type": "execute_result"
    }
   ],
   "source": [
    "iu_word"
   ]
  },
  {
   "cell_type": "code",
   "execution_count": 49,
   "metadata": {},
   "outputs": [
    {
     "data": {
      "text/plain": [
       "['나를',\n",
       " '부를',\n",
       " '때',\n",
       " '나는',\n",
       " '왜',\n",
       " '숨을',\n",
       " '쉬지',\n",
       " '못하고',\n",
       " '비틀거리는',\n",
       " '거야',\n",
       " '눈물이',\n",
       " '멈추질',\n",
       " '않아서',\n",
       " '잠시만',\n",
       " '가만히',\n",
       " '있으면',\n",
       " '눈을',\n",
       " '뜨면',\n",
       " '뜨지',\n",
       " '않아',\n",
       " '꺼져',\n",
       " '있는',\n",
       " '꿈속을',\n",
       " '바라보면서',\n",
       " '나도',\n",
       " '모르게',\n",
       " '흘러',\n",
       " '나오고',\n",
       " '마음을',\n",
       " '다',\n",
       " '비우면',\n",
       " '나',\n",
       " '혼자만의',\n",
       " '방으로',\n",
       " '들어가서',\n",
       " '너를',\n",
       " '부르고',\n",
       " '싶었어',\n",
       " '그래',\n",
       " '불러줘줘',\n",
       " '정말',\n",
       " '예뻐지자고',\n",
       " '불렀던',\n",
       " '그',\n",
       " '목소리',\n",
       " '널',\n",
       " '불러줘',\n",
       " '불러줬던',\n",
       " '잊고',\n",
       " '살다',\n",
       " '보니까',\n",
       " '이렇게',\n",
       " '아름다운날만',\n",
       " '있다면',\n",
       " '참',\n",
       " '좋겠습니다',\n",
       " '좋은',\n",
       " '꿈',\n",
       " '꾸시고',\n",
       " '안녕히',\n",
       " '계세요']"
      ]
     },
     "execution_count": 49,
     "metadata": {},
     "output_type": "execute_result"
    }
   ],
   "source": [
    "list_iu"
   ]
  },
  {
   "cell_type": "code",
   "execution_count": 50,
   "metadata": {},
   "outputs": [
    {
     "name": "stdout",
     "output_type": "stream",
     "text": [
      "5\n"
     ]
    }
   ],
   "source": [
    "num_check=0\n",
    "for i in list_iu:\n",
    "    if i in iu_word:\n",
    "        num_check+=1\n",
    "    \n",
    "print(num_check)"
   ]
  },
  {
   "cell_type": "code",
   "execution_count": null,
   "metadata": {},
   "outputs": [],
   "source": []
  },
  {
   "cell_type": "markdown",
   "metadata": {},
   "source": [
    "# ----ㅡ--------------------생성가사 영어 비율"
   ]
  },
  {
   "cell_type": "code",
   "execution_count": 4,
   "metadata": {},
   "outputs": [
    {
     "name": "stdout",
     "output_type": "stream",
     "text": [
      "5\n",
      "0 1\n",
      "1 2\n",
      "2 3\n",
      "3 4\n",
      "4 5\n",
      "['시간의', '존재도', '시간과', '함께', '소멸되고파', '기억은', '사라져버려요잠시만', '눈을', '떼면', '세상', '모든', '것이', '멈추죠아프지', '않은', '곳으로', '다시', '돌아갑니다그대', '눈을', '뜨면그대', '맘도', '알아줄', '거예요그렇게', '하루', '하루를', '살아요시간이', '지나도', '끝나지', '않은', '그대', '사랑도잊혀버렸죠이제', '그만', '잊어요잊지', '않을게요아무에게도', '말하지', '않을게요시간이', '지나도', '끝나지', '않은', '그대', '사랑도잊혀버렸죠이제', '그만', '잊어요잊을게요아무에게도', '말하지', '않을게요아주', '오래전', '사랑한', '약속도잊혀버렸죠사랑에', '눈', '뜬', '지금도', '변함이', '없죠그런', '그대', '사랑은날', '추억하는거죠기억에', '되살아나는', '그대', '사랑</s>', '시간', '나면', '전화해사랑한다면', '내게로', '올래요올래', '안', '올래요올래', '안', '올래요올래', '대답', '없는그대', '마음', '알아요나의', '맘이', '나를', '얼마나', '사랑하는지묻지', '말아요하루에도', '몇', '번씩', '내', '맘을', '아프게', '하니사랑한다면', '내게로올래요올래', '안', '올래요올래', '대답', '없는그대', '마음', '알아요나의', '맘이', '나를', '얼마나', '사랑하는지묻지', '말아요하루에도', '몇', '번씩', '내', '맘을', '아프게', '하니사랑한다면', '내게로올래요올래', '안', '올래요올래', '대답', '없는그대', '마음', '알아요나의', '맘이', '나를', '얼마나', '사랑하는지묻지', '말아요하루에도', '몇', '번씩', '내', '맘을', '아프게', '하니사랑한다면', '내게로오세요', '시간표도', '몰라서', '뭐해', '숙제할까봐왜', '자꾸', '눈물만', '나와요별일', '아니지', '궁금해서왜', '자꾸', '웃어요얘기', '나누다보면', '시간', '안', '가는', '게', '없잖아요왜', '자꾸', '울어요별일', '아니지', '궁금해서왜', '자꾸', '웃어요얘기', '나누다보면', '시간', '안', '가는', '게', '없잖아왜', '자꾸', '울어요별일', '아니지', '궁금해서왜', '자꾸', '웃어요얘기', '나누다보면', '시간', '안', '가는', '게', '없잖아왜', '자꾸', '울어요별일', '아니지', '궁금해서왜', '자꾸', '울어요얘기', '나누다보면', '시간', '안', '가는', '게', '없잖아왜', '자꾸', '자꾸', '울어요별일', '아니지', '궁금해서왜', '자꾸', '울어요그대', '마음을', '알잖아요나를', '알잖아나를', '알잖아나를', '알잖아나를', '알잖아나를', '알</s>', '시간이라는', '이름의', '시작이구나아득한', '곳,', '시간보다', '먼', '곳나의', '눈을', '피해', '떠나보는', '시간생각해봐그래', '너를', '알게', '되어서', '나에게', '시간이란', '무엇인가오늘따라', '너무나도', '외로워너에게만', '갈', '수', '없는', '곳외로운', '시간처럼시간이', '가면', '멀어지고만', '싶어', '시간이란', '시간을', '알아도', '너무나도', '시간이', '흘러시간이', '가면', '멀어지고만', '싶어시간이', '가면', '멀어지고만', '싶어시간이', '가면', '멀어지고만', '싶어시간이', '가면', '멀어지고만', '싶어시간이', '가면', '멀어지고만', '싶어시간이', '가면', '멀어지고만', '싶어시간이', '가면', '멀어지고만', '싶어시간이', '가면', '멀어지고</s>', '시간이란', '말을', '떠올린', '적이', '없었죠그런데', '지나고', '나면', '또', '다시', '그', '말이', '떠올랐죠아무도', '없는', '밤하늘에', '홀로', '서', '있는', '기분이었죠별을', '찾아', '헤맨', '시간들당신의', '눈에는', '아직도', '이', '밤', '그대가', '온', '거예요내가', '그대를', '만났었죠내', '마음은', '그대가', '내', '맘', '속에', '있습니다언제나', '그대를', '만나면두근거리는', '마음에', '흔들려요언제나', '그대를', '만나면두근거리는', '마음에', '흔들려요어떤', '말로도', '그대가', '날', '안았더라면', '좋았겠죠날', '안았더라면', '좋았겠네요내', '마음이', '그대를', '만나면두근거리는', '마음에', '흔들려요언제나', '그대를', '만나면두근거리는', '마음에', '흔들려</s>']\n",
      "302 0\n",
      "0.0\n"
     ]
    }
   ],
   "source": [
    "import pandas as pd\n",
    "\n",
    "df = pd.read_excel('./dataset/생성가사.xlsx')\n",
    "num_df =len(df) \n",
    "print(len(df))\n",
    "\n",
    "import itertools\n",
    "\n",
    "# 전체 단어 넣을 리스트\n",
    "words_all = []\n",
    "\n",
    "\n",
    "for i in range(num_df):\n",
    "    text = df['iu'][i]\n",
    "    words = text.split(' ')\n",
    "    words_all.append(words)\n",
    "    print(i, len(words_all))\n",
    "\n",
    "\n",
    "words_all=list(itertools.chain(*words_all))\n",
    "print(words_all)\n",
    "reg = re.compile(r'[a-zA-Z]')\n",
    "num_korean=0\n",
    "num_english=0\n",
    "for i in words_all:\n",
    "\n",
    "    if reg.match(i):\n",
    "        num_english+=1\n",
    "    else:\n",
    "        num_korean+=1\n",
    "    \n",
    "print(num_korean, num_english)\n",
    "\n",
    "#퍼센트\n",
    "english_percent=num_english/len(words_all)*100\n",
    "\n",
    "print(english_percent)"
   ]
  },
  {
   "cell_type": "code",
   "execution_count": 5,
   "metadata": {},
   "outputs": [
    {
     "name": "stdout",
     "output_type": "stream",
     "text": [
      "5\n",
      "0 1\n",
      "1 2\n",
      "2 3\n",
      "3 4\n",
      "4 5\n",
      "['시간', '많아도', '체력을', '아껴야죠우리', '사이는', '바쁘게', '흘러가죠아픈', '기억들은', '저만이', '할', '수', '있는', '표현이', '아닐런지요이제', '우리는', '함께', '웃어야겠어얘기를', '하다', '보면전부', '지울', '수도', '있으니언젠가', '다', '지울', '수', '있으니깐우린', '해피엔딩이야얘길', '하다', '보면전부', '지울', '수도', '있으니깐우린', '해피엔딩이야얘기를', '하다', '보면전부', '지울', '수도', '있으니깐우린', '해피엔딩이야얘기를', '하다', '보면전부', '지울', '수도', '있으니깐우린', '해피엔딩이야얘기를', '하다', '보면전부', '지울', '수도', '있으니깐우린', '해피엔딩이야얘기를', '하다', '보면전부', '지울', '수도', '있으니깐우린', '해피엔딩이야얘기를', '하다', '보면전부', '지울', '수도', '있으니깐우린', '해피엔딩이야얘기를', '하다', '보면전부', '지울', '수도', '있으니깐우린', '해피엔딩이야이야얘기를', '하다', '보면전부', '지울', '수도', '있으니깐우린', '해피엔딩이야얘기를', '하다', '보면전부', '지울', '수도', '있으니깐우린', '해피엔딩이야얘기를', '하다', '보면전부', '지울', '수도', '있으니깐우린', '해피엔딩이야이야얘기를', '하다', '보면전부', '지울', '수도', '있으니깐우린', '해피엔딩이야', '시간', '', '멈춘', '듯', '정신없는', '하루이끌리듯', '속삭이던', '나를', '일으켜', '세운', '건니고린도전', '‘마셔져라', '매직', '피버’또', '같은', '꿈을', '꾸며계속', '울리고', '있어눈부시게', '더', '크게', '커져버린', '니', '마음도나를', '덮쳐와I', 'don’t', 'wanna', 'kiss', 'you넌', '깜짝', '놀랄', '거야', '너로', '인해시간마저', '멈추어버린', '듯해A', 'yo', 'ya', '감히', '누가', '널', '거부할', '수', '있어I', 'don’t', 'wanna', 'kiss', 'you넌', '깜짝', '놀랄', '거야', '너로', '인해시간마저', '멈추어버린', '듯해A', 'yo', 'ya', '감히', '누가', '널', '거부할', '수', '있어I', 'don’t', 'wanna', 'kiss', 'you넌', '깜짝', '놀랄', '거야', '너로', '인해시간마저', '멈추어버린', '듯해A', 'yo', 'yo', 'ya', '감히', '누가', '널', '거부할', '수', '있어I', 'don’t', 'wanna', 'kiss', 'you넌', '깜짝', '놀랄', '거야', '너로', '인해시간마저', '멈추어버린', '듯해A', 'yo', 'ya', '감히', '누가', '널', '거부할', '수', '있어I', 'don’t', 'wanna', 'kiss', 'you넌', '깜짝', '놀랄', '거야', '너로', '인해시간마저', '멈추어버린', '듯해A', 'yo', 'ya', '감히', '누가', '널', '거부할', '수', '있어I', 'don’t', 'wanna', 'kiss', 'you넌', '깜짝', '놀랄', '거야', '너로', '인해시간마저', '멈추어버린', '듯해', '시간', '마저', \"'아쉬워\", '아쉬웠던', \"날들You're\", 'so', 'sick', 'ofday짧은', '꿈인', '줄로만', '알았는데아니던', '사실널', '둘러싼', '수많은', '수많은', '시선중', '내게만', '알려졌던days길', '잃은', '기분이', '들어나의', '모든', '걸', '내려놨어', '널', '다시', '붙잡고', '싶어Cuz', \"I'm\", 'not', 'sick', 'ofday날', '당기는', '건', '너의', '목소리야눈부시게', '아름다운', '너의', '목소리Where', 'you', 'at', '지금기다리고', '있는', '내', '얼굴을', '뒤로한', '채Where', 'you', 'at', '지금어떻게', '날', '두고', '떠나', 'babyWhere', 'you', 'at', '지금어떻게', '날', '두고', '떠나', 'baby너의', '모든', '걸', '내려놨어날', '두고', '떠나', 'babyWhere', 'you', 'at', '지금어떻게', '날', '두고', '떠나', 'baby너의', '모든', '걸', '내려놨어날', '두고', '떠나', 'babyWhere', 'you', 'at', '지금어떻게', '날', '두고', '떠나', 'baby네가', '내', '마지막', '남은', '꿈인', '것', '같이네가', '내', '곁에', '있다면', '행복했어Where', 'you', 'at', '지금어떻게', '날', '두고', '떠나', 'baby네가', '내', '곁을', '떠날', '땐어떻게', '날', '두고', '떠나', 'baby네가', '내', '곁을', '떠날', '땐어떻게', '날', '두고', '떠나', 'baby네가', '내', '곁을', '떠날', '땐어떻게', '날', '두고', '떠나', 'baby네가', '내', '곁을', '떠날', '땐어떻게', '날', '두고', '떠나', 'baby네가', '내', '곁을', '떠날', '시간이', '멈춘', '듯', '멈춰있어니', \"'귓가에\", '울려', '퍼지던', '널', '위한', \"'귓속말'\", '넌', '마치', '엄마처럼Huh', '기다려줘', 'Huh', '알잖아', '지금', '넌', '내게모든', '걸', '던져', '넌', '날', '무너뜨려Woo', 'bring', 'me', 'uh시간이', '멈춰있어니가', '어디에', '있어내가', '여기', '있다는', '걸넌', '이미', '알고', '있어woo', 'bring', 'me', 'uh시간이', '멈춰있어니가', '어디에', '있어내가', '여기', '있다는', '걸넌', '이미', '알고', '있어woo', 'bring', 'me', 'uh시간이', '멈춰있어니가', '어디에', '있어내가', '여기', '있다는', '걸넌', '이미', '알고', '있어Woo', 'bring', 'me', 'uh시간이', '멈춰있어니가', '어디에', '있어내가', '여기', '있다는', '걸넌', '이미', '알고', '있어Woo', 'bring', 'me', 'uh시간이', '멈춰있어니가', '어디에', '있어내가', '여기', '있다는', '걸넌', '이미', '알고', '있어Woo', 'bring', 'me', 'uh시간이', '멈춰있어니가', '어디에', '있어내가', '여기', '있다는', '걸넌', '이미', '알고', '있어Woo', 'bring', 'me', 'uh시간이', '멈춰있어니가', '어디에', '있어내가', '여기', '있다는', '걸넌', '이미', '알고', '있어Woo', 'bring', 'me', 'uh시간이', '멈춰있어니가', '시간', '참', '빠르게', '지나간다', '너도', '그럴', '거야', '난', '너의', '모든', '걸', '다', '가진', '것', '같아니가', '나를', '넘볼', '수', '없게', '니가', '내', '여자라는', '거널', '갖고', '싶어', 'I', 'can', 'fly', 'you', 'fly', 'you', 'let', 'youand', 'your', 'eyes', 'you', 'make', 'me', 'your', 'eyes', 'you', 'make', 'me', 'your', 'eyes어두웠던', '날들에이제', '너를', '대입해나를', '그려줘', '내', '모든', '걸', '다', '내게', '줘Every', 'day', 'every', 'nightI', 'can', 'fly', 'you', 'let', 'youand', 'your', 'eyes', 'you', 'make', 'me', 'your', 'eyes어두웠던', '날들에이제', '너를', '대입해나를', '그려줘', '내', '모든', '걸', '다줘Every', 'day', 'every', 'nightI', 'can', 'fly', 'you', 'let', 'youand', 'your', 'eyes', 'you', 'make', 'me', 'your', 'eyes어두웠던', '날들에이제', '너를', '대입해나를', '그려줘', '내', '모든', '걸', '다줘Every', 'day', 'every', 'nightI', 'can', 'fly', 'you', 'let', 'youand', 'your', 'eyes', 'you', 'make', 'me', 'your', 'eyes어두웠던', '날들에이제', '너를', '대입해나를', '그려줘', '내', '모든', '걸', '다줘Every', 'day', 'every', 'nightI', 'can', 'fly', 'you', 'le']\n",
      "445 162\n",
      "26.68863261943987\n"
     ]
    }
   ],
   "source": [
    "import pandas as pd\n",
    "\n",
    "df = pd.read_excel('./dataset/생성가사.xlsx')\n",
    "num_df =len(df) \n",
    "print(len(df))\n",
    "\n",
    "import itertools\n",
    "\n",
    "# 전체 단어 넣을 리스트\n",
    "words_all = []\n",
    "\n",
    "\n",
    "for i in range(num_df):\n",
    "    text = df['mx'][i]\n",
    "    words = text.split(' ')\n",
    "    words_all.append(words)\n",
    "    print(i, len(words_all))\n",
    "\n",
    "\n",
    "words_all=list(itertools.chain(*words_all))\n",
    "print(words_all)\n",
    "reg = re.compile(r'[a-zA-Z]')\n",
    "num_korean=0\n",
    "num_english=0\n",
    "for i in words_all:\n",
    "\n",
    "    if reg.match(i):\n",
    "        num_english+=1\n",
    "    else:\n",
    "        num_korean+=1\n",
    "    \n",
    "print(num_korean, num_english)\n",
    "\n",
    "#퍼센트\n",
    "english_percent=num_english/len(words_all)*100\n",
    "\n",
    "print(english_percent)"
   ]
  },
  {
   "cell_type": "code",
   "execution_count": 6,
   "metadata": {},
   "outputs": [
    {
     "name": "stdout",
     "output_type": "stream",
     "text": [
      "5\n",
      "0 1\n",
      "1 2\n",
      "2 3\n",
      "3 4\n",
      "4 5\n",
      "['시간은', '말해주는데넌', '언제쯤', '울어', '울어생각은', '다', '하고그러나', '시간이란', '말은', '너에게만많은', '걸', '말해줘눈감아주기만', '하잖아어디서', '누구와든', '대화를', '해야', '알잖아왜', '난', '숨이', '막히고', '답답해참을', '수', '없는', '밤이', '되어', '자면', '몇', '시간만에', '지쳐버릴', '때오직', '너와', '나', '이렇게You', '곁에', \"있어줘You're\", 'my', 'brainshut', 'youdo', 'look', 'away난', '언제나', \"그랬어You're\", 'my', 'brainshut', 'youdo', 'look', 'away사실', '난', 'Youdo', 'look', \"awayYou're\", 'my', 'brainshut', 'youdo', 'look', 'away난', '언제나', \"그랬어You're\", 'my', 'brainshut', 'youdo', 'look', 'away사실', '난', 'Youdo', 'look', \"awayYou're\", 'my', 'brainshut', 'youdo', 'look', 'away사실', '난', 'Youdo', 'look', \"awayYou're\", 'my', 'brainshut', 'youdo', 'look', 'away난', '언제나', \"그랬어You're\", 'my', 'brainshut', 'youdo', 'look', 'away사실', '난', 'Youdo', 'look', \"awayYou're\", 'my', 'brainshut', 'youdo', 'look', 'away난', '언제나', \"그랬어You're\", 'my', '시간의', '신비에', '잠긴', '밤하늘에', '내던져', '지네뜨겁게', '숨쉬는', '별', '소원했지만아름답게', '빛나지', '못했네어두움은', '날', '째여오고태양도', '날', '떠나쓰러져가는', '내', '몸', '조각들을영원한', '곳에', '안녕여기는', '어딘지', '숨이', '막혀와강렬한', '혼란이', '나를', '덮쳐와눈뜨면', '새로운', '하늘이지만다시', '또다시', '빛나지', '못했네어두움은', '날', '째여오고태양도', '날', '떠나쓰러져가는', '내', '몸', '조각들을영원한', '곳에', '안녕이젠', '모두', '영원히', '안', '시간', '가는', '줄', '모르게', '해요어두워', '어두워', '어두워', '밤사라지지', '않게숨이', '막힐', '것만', '같은', '긴', '방', '안', '소파에', '기대어', '지루한', '시간을', '보냈던', '건진', '몰랐는데', '알고', '있었죠', '난', '아무것도', '모르고', '방에만', \"있었죠You're\", 'so', 'beautiful', 'to', \"meYou're\", 'so', 'beautiful', 'to', \"meDon't\", 'care어린', '내가', '뭘', '좋아하는지무슨', \"생각하는지몰랐는데You're\", 'so', 'beautiful', 'to', 'meSomething', \"I'm\", 'the', 'other', 'way', 'to', \"meYou're\", 'so', 'beautiful', 'to', \"meDon't\", 'care어린', '내가', '뭘', '좋아하는지몰랐는데', '알고', '있었죠', '난', '아무것도', '모르고', '방에만', \"있었죠You're\", 'so', 'beautiful', 'to', 'meSomething', \"I'm\", 'the', 'other', 'way', 'to', \"meDon't\", 'care어린', '내가', '뭘', '좋아하는지몰랐는데', '알고', '있었죠', '난', '아무것도', '몰랐죠', '시간', '가는', '줄', '모르겠어어자', '떠나야', '해길을', '나서야', '해어딜', '향해', '가는지', '몰라도어디서부터', '난', '잘못됐을까모든', '건', '내', '맘', '같을', '수', '없잖아다', '지워야', '해살아내야만', '해모두', '다', '제', '갈', '길로기다려줘', '이', '노랠', '다', '만들', '때까지마지막', '코드가', '다', '끝날', '때까지내', '힘껏', '기타', '다운', '스트로크세상이', '다', '변한다', '해도내', '목소리', '몇', '번씩', '갈라져도널', '향한', '나의', '갈증은날', '떠나지', '못할', '거야다', '지워야', '해살아내야만', '해길을', '나서야', '해나를', '위해', '노래했잖아', '모든', '건', '다', '날', '비웃고', '있는', '거야날', '위해', '춤했잖아모든', '게', '다', '날', '비웃고', '있는', '거야다', '지워야', '해사라지고', '싶어', '다', '지워야', '해사라지고', '싶어', '다', '지워야', '해사라지고', '싶어', '다', '지워야', '해사라지고', '싶어', '다', '지워야', '해사라지고', '싶어', '시간', '가는', '줄', '모르고참', '고단한', '하루였습니다꿈을', '꾸듯', '곱게만', '그려오던나의', '인생표가제', '다시', '그려집니다내', '인생표가', '또', '또', '그려지네꿈을', '꾸듯', '곱게만', '그려오던나의', '인생표가제', '다시', '그려집니다내', '인생표가', '또', '그려지네꿈을', '꾸듯', '곱게만', '그려오던나의', '인생표가제', '다시', '그려집니다내', '인생표가', '또', '그려지네꿈을', '꾸듯', '곱게만', '그려오던나의', '인생표가제', '다시', '그려집니다내', '인생표가', '또', '그려지네꿈을', '꾸듯', '곱게만', '그려오던나의', '인생표가제', '다시', '그려집니다내', '인생표가', '또', '그려지네꿈을', '꾸듯', '곱게만', '그려오던나의', '인생표가제', '다시', '그려집니다내', '인생표가', '또', '그려지네꿈을', '꾸듯', '곱게만', '그려오던나의', '인생표가제', '다시', '그려집니다내', '인생표가', '또', '그려지네꿈을', '꾸듯', '곱게만', '그려오던나의', '인생표가제', '다시', '그려집니다내', '인생표가', '또', '그려지네꿈을', '꾸듯', '곱게만', '그려오던나의', '인생표가제', '다시', '그려집니다내', '인생표가', '또', '그려지네꿈을', '꾸듯', '곱게만', '그려오던나의', '미래', '인생표가']\n",
      "327 88\n",
      "21.204819277108435\n"
     ]
    }
   ],
   "source": [
    "import pandas as pd\n",
    "\n",
    "df = pd.read_excel('./dataset/생성가사.xlsx')\n",
    "num_df =len(df) \n",
    "print(len(df))\n",
    "\n",
    "import itertools\n",
    "\n",
    "# 전체 단어 넣을 리스트\n",
    "words_all = []\n",
    "\n",
    "\n",
    "for i in range(num_df):\n",
    "    text = df['s'][i]\n",
    "    words = text.split(' ')\n",
    "    words_all.append(words)\n",
    "    print(i, len(words_all))\n",
    "\n",
    "\n",
    "words_all=list(itertools.chain(*words_all))\n",
    "print(words_all)\n",
    "reg = re.compile(r'[a-zA-Z]')\n",
    "num_korean=0\n",
    "num_english=0\n",
    "for i in words_all:\n",
    "\n",
    "    if reg.match(i):\n",
    "        num_english+=1\n",
    "    else:\n",
    "        num_korean+=1\n",
    "    \n",
    "print(num_korean, num_english)\n",
    "\n",
    "#퍼센트\n",
    "english_percent=num_english/len(words_all)*100\n",
    "\n",
    "print(english_percent)"
   ]
  }
 ],
 "metadata": {
  "kernelspec": {
   "display_name": "Python 3",
   "language": "python",
   "name": "python3"
  },
  "language_info": {
   "codemirror_mode": {
    "name": "ipython",
    "version": 3
   },
   "file_extension": ".py",
   "mimetype": "text/x-python",
   "name": "python",
   "nbconvert_exporter": "python",
   "pygments_lexer": "ipython3",
   "version": "3.8.5"
  }
 },
 "nbformat": 4,
 "nbformat_minor": 4
}
